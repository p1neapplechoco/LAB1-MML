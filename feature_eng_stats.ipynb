{
 "cells": [
  {
   "cell_type": "code",
   "execution_count": 1,
   "metadata": {},
   "outputs": [],
   "source": [
    "import numpy as np\n",
    "import matplotlib.pyplot as plt\n",
    "import pandas as pd"
   ]
  },
  {
   "cell_type": "code",
   "execution_count": 10,
   "metadata": {},
   "outputs": [
    {
     "data": {
      "text/html": [
       "<div>\n",
       "<style scoped>\n",
       "    .dataframe tbody tr th:only-of-type {\n",
       "        vertical-align: middle;\n",
       "    }\n",
       "\n",
       "    .dataframe tbody tr th {\n",
       "        vertical-align: top;\n",
       "    }\n",
       "\n",
       "    .dataframe thead th {\n",
       "        text-align: right;\n",
       "    }\n",
       "</style>\n",
       "<table border=\"1\" class=\"dataframe\">\n",
       "  <thead>\n",
       "    <tr style=\"text-align: right;\">\n",
       "      <th></th>\n",
       "      <th>Make</th>\n",
       "      <th>Model</th>\n",
       "      <th>Fuel Type</th>\n",
       "      <th>Transmission</th>\n",
       "      <th>Location</th>\n",
       "      <th>Color</th>\n",
       "      <th>Owner</th>\n",
       "      <th>Seller Type</th>\n",
       "      <th>Engine</th>\n",
       "      <th>Max Power</th>\n",
       "      <th>Max Torque</th>\n",
       "      <th>Drivetrain</th>\n",
       "    </tr>\n",
       "  </thead>\n",
       "  <tbody>\n",
       "    <tr>\n",
       "      <th>0</th>\n",
       "      <td>BMW</td>\n",
       "      <td>3-Series 320d</td>\n",
       "      <td>Diesel</td>\n",
       "      <td>Automatic</td>\n",
       "      <td>Mumbai</td>\n",
       "      <td>White</td>\n",
       "      <td>Second</td>\n",
       "      <td>Individual</td>\n",
       "      <td>NaN</td>\n",
       "      <td>NaN</td>\n",
       "      <td>NaN</td>\n",
       "      <td>NaN</td>\n",
       "    </tr>\n",
       "    <tr>\n",
       "      <th>1</th>\n",
       "      <td>BMW</td>\n",
       "      <td>X1 sDrive20d xLine</td>\n",
       "      <td>Diesel</td>\n",
       "      <td>Automatic</td>\n",
       "      <td>Surat</td>\n",
       "      <td>Black</td>\n",
       "      <td>First</td>\n",
       "      <td>Individual</td>\n",
       "      <td>1995 cc</td>\n",
       "      <td>184 bhp @ 4000 rpm</td>\n",
       "      <td>350 Nm @ 1750 rpm</td>\n",
       "      <td>RWD</td>\n",
       "    </tr>\n",
       "    <tr>\n",
       "      <th>2</th>\n",
       "      <td>Mahindra</td>\n",
       "      <td>XUV500 W4 1.99</td>\n",
       "      <td>Diesel</td>\n",
       "      <td>Manual</td>\n",
       "      <td>Muzaffurpur</td>\n",
       "      <td>Silver</td>\n",
       "      <td>First</td>\n",
       "      <td>Individual</td>\n",
       "      <td>1997 cc</td>\n",
       "      <td>138 bhp @ 3750 rpm</td>\n",
       "      <td>320 Nm @ 1600 rpm</td>\n",
       "      <td>FWD</td>\n",
       "    </tr>\n",
       "    <tr>\n",
       "      <th>3</th>\n",
       "      <td>Mercedes-Benz</td>\n",
       "      <td>GLS 400d 4MATIC</td>\n",
       "      <td>Diesel</td>\n",
       "      <td>Automatic</td>\n",
       "      <td>Delhi</td>\n",
       "      <td>White</td>\n",
       "      <td>First</td>\n",
       "      <td>Individual</td>\n",
       "      <td>2925 cc</td>\n",
       "      <td>326 bhp @ 3600 rpm</td>\n",
       "      <td>700 Nm @ 1200 rpm</td>\n",
       "      <td>AWD</td>\n",
       "    </tr>\n",
       "    <tr>\n",
       "      <th>4</th>\n",
       "      <td>Toyota</td>\n",
       "      <td>Fortuner 2.8 4x2 AT [2016-2020]</td>\n",
       "      <td>Diesel</td>\n",
       "      <td>Automatic</td>\n",
       "      <td>Mumbai</td>\n",
       "      <td>White</td>\n",
       "      <td>First</td>\n",
       "      <td>Individual</td>\n",
       "      <td>2755 cc</td>\n",
       "      <td>174 bhp @ 3400 rpm</td>\n",
       "      <td>450 Nm @ 1600 rpm</td>\n",
       "      <td>RWD</td>\n",
       "    </tr>\n",
       "  </tbody>\n",
       "</table>\n",
       "</div>"
      ],
      "text/plain": [
       "            Make                            Model Fuel Type Transmission  \\\n",
       "0            BMW                    3-Series 320d    Diesel    Automatic   \n",
       "1            BMW               X1 sDrive20d xLine    Diesel    Automatic   \n",
       "2       Mahindra                   XUV500 W4 1.99    Diesel       Manual   \n",
       "3  Mercedes-Benz                  GLS 400d 4MATIC    Diesel    Automatic   \n",
       "4         Toyota  Fortuner 2.8 4x2 AT [2016-2020]    Diesel    Automatic   \n",
       "\n",
       "      Location   Color   Owner Seller Type   Engine           Max Power  \\\n",
       "0       Mumbai   White  Second  Individual      NaN                 NaN   \n",
       "1        Surat   Black   First  Individual  1995 cc  184 bhp @ 4000 rpm   \n",
       "2  Muzaffurpur  Silver   First  Individual  1997 cc  138 bhp @ 3750 rpm   \n",
       "3        Delhi   White   First  Individual  2925 cc  326 bhp @ 3600 rpm   \n",
       "4       Mumbai   White   First  Individual  2755 cc  174 bhp @ 3400 rpm   \n",
       "\n",
       "          Max Torque Drivetrain  \n",
       "0                NaN        NaN  \n",
       "1  350 Nm @ 1750 rpm        RWD  \n",
       "2  320 Nm @ 1600 rpm        FWD  \n",
       "3  700 Nm @ 1200 rpm        AWD  \n",
       "4  450 Nm @ 1600 rpm        RWD  "
      ]
     },
     "execution_count": 10,
     "metadata": {},
     "output_type": "execute_result"
    }
   ],
   "source": [
    "df = pd.read_csv('train.csv')\n",
    "df.head()\n",
    "# Get only column with type=object\n",
    "df.select_dtypes(include=['object']).head()"
   ]
  },
  {
   "cell_type": "markdown",
   "metadata": {},
   "source": [
    "## Testing ground"
   ]
  },
  {
   "cell_type": "code",
   "execution_count": 20,
   "metadata": {},
   "outputs": [
    {
     "data": {
      "text/plain": [
       "Model\n",
       "X1 sDrive20d xLine                 14\n",
       "Fortuner 2.8 4x2 AT [2016-2020]    12\n",
       "Swift DZire VDI                    11\n",
       "A6 35 TDI Matrix                   10\n",
       "Swift VXi                          10\n",
       "                                   ..\n",
       "XUV500 W6 2013                      1\n",
       "S-Class S 450                       1\n",
       "Fabia Elegance 1.6 MPI              1\n",
       "Fortuner 3.0 4x4 AT                 1\n",
       "5-Series 525d Luxury Plus           1\n",
       "Name: count, Length: 912, dtype: int64"
      ]
     },
     "execution_count": 20,
     "metadata": {},
     "output_type": "execute_result"
    }
   ],
   "source": [
    "# Histogram of the target variable\n",
    "df[\"Model\"].value_counts()"
   ]
  },
  {
   "cell_type": "code",
   "execution_count": null,
   "metadata": {},
   "outputs": [
    {
     "data": {
      "text/plain": [
       "<Axes: xlabel='Make'>"
      ]
     },
     "execution_count": 15,
     "metadata": {},
     "output_type": "execute_result"
    },
    {
     "data": {
      "image/png": "[encoded data removed]",
      "text/plain": [
       "<Figure size 640x480 with 1 Axes>"
      ]
     },
     "metadata": {},
     "output_type": "display_data"
    }
   ],
   "source": [
    "# plot mean of sales for each type in make\n",
    "df.groupby('Make')['Price'].mean().plot(kind='bar')"
   ]
  },
  {
   "cell_type": "markdown",
   "metadata": {},
   "source": [
    "### Multiple Linear Regression.\n",
    "$$ \\beta_0 + \\beta_1 * x_1 + \\beta_2 * x_2 + ... + \\beta_n * x_n = y$$\n",
    "##### Features to run F-test on\n",
    "**Categorical**:\n",
    "- Make_count\n",
    "- \n",
    "\n",
    "**Numerical**:\n",
    "- Year\n",
    "- Engine\n",
    "- Length\n",
    "- Width\n",
    "- Fuel tank capacity\n",
    "- Max power bhp\n",
    "- Max torque Nm\n",
    "- Max torque rpm"
   ]
  },
  {
   "cell_type": "markdown",
   "metadata": {},
   "source": [
    "##### **One:** Is there a relationship between the response and predictors ?\n",
    "$$H_0 : \\beta_1 = \\beta_2 = \\beta_3 = ... = \\beta_n = 0$$\n",
    "$$H_a : \\text{at least one } \\beta_j \\text{ is non-zero}$$"
   ]
  },
  {
   "cell_type": "code",
   "execution_count": null,
   "metadata": {},
   "outputs": [],
   "source": [
    "def F_statistic(model):\n",
    "    pass"
   ]
  },
  {
   "cell_type": "markdown",
   "metadata": {},
   "source": [
    "##### **Two:** Deciding on important variables\n",
    "Three classical approaches:\n",
    "- Forward selection\n",
    "- Backward selection\n",
    "- Mixed selection\n",
    "\n",
    "Various statistics can be used to judge the quality of a model.\n",
    "- Mallow’s Cp\n",
    "- Akaine information criterion (AIC)\n",
    "- Bayesian information criterion (BIC)\n",
    "- Adjusted R^2\n"
   ]
  },
  {
   "cell_type": "markdown",
   "metadata": {},
   "source": [
    "##### **Three:** Model fit\n"
   ]
  },
  {
   "cell_type": "markdown",
   "metadata": {},
   "source": []
  }
 ],
 "metadata": {
  "kernelspec": {
   "display_name": "testenv",
   "language": "python",
   "name": "testenv"
  },
  "language_info": {
   "codemirror_mode": {
    "name": "ipython",
    "version": 3
   },
   "file_extension": ".py",
   "mimetype": "text/x-python",
   "name": "python",
   "nbconvert_exporter": "python",
   "pygments_lexer": "ipython3",
   "version": "3.11.9"
  }
 },
 "nbformat": 4,
 "nbformat_minor": 2
}
