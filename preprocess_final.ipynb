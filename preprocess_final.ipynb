{
 "cells": [
  {
   "cell_type": "markdown",
   "id": "1ae57d3f2dd6d2d5",
   "metadata": {},
   "source": [
    "# Installing required libraries"
   ]
  },
  {
   "cell_type": "code",
   "execution_count": null,
   "id": "initial_id",
   "metadata": {
    "ExecuteTime": {
     "end_time": "2025-03-21T15:52:16.068142Z",
     "start_time": "2025-03-21T15:52:08.770922Z"
    },
    "collapsed": true
   },
   "outputs": [],
   "source": [
    "# %pip install numpy\n",
    "# %pip install pandas\n",
    "# %pip install matplotlib\n",
    "# %pip install seaborn\n",
    "# %pip install scipy"
   ]
  },
  {
   "cell_type": "code",
   "execution_count": null,
   "id": "7e6d4069976b359c",
   "metadata": {
    "ExecuteTime": {
     "end_time": "2025-03-21T15:54:00.872028Z",
     "start_time": "2025-03-21T15:54:00.868165Z"
    }
   },
   "outputs": [],
   "source": [
    "from preprocessor.sklearn_preprocessor import preprocess_data\n",
    "\n",
    "import pandas as pd\n",
    "import seaborn as sns\n",
    "import numpy as np\n",
    "import matplotlib.pyplot as plt"
   ]
  },
  {
   "cell_type": "code",
   "execution_count": null,
   "id": "d951e7fa75fc15d4",
   "metadata": {
    "ExecuteTime": {
     "end_time": "2025-03-21T15:54:02.068799Z",
     "start_time": "2025-03-21T15:54:02.056854Z"
    }
   },
   "outputs": [],
   "source": [
    "path = './data/'\n",
    "data = pd.read_csv(path + 'train.csv')"
   ]
  },
  {
   "cell_type": "code",
   "execution_count": null,
   "id": "3e541859c945d483",
   "metadata": {
    "ExecuteTime": {
     "end_time": "2025-03-21T15:54:03.070804Z",
     "start_time": "2025-03-21T15:54:03.066296Z"
    }
   },
   "outputs": [],
   "source": [
    "print(f'Số lượng dòng của data: {len(data)}')\n",
    "print(data.columns)"
   ]
  },
  {
   "cell_type": "code",
   "execution_count": null,
   "id": "fe90b91f34e8a1b5",
   "metadata": {
    "ExecuteTime": {
     "end_time": "2025-03-21T15:52:19.332606Z",
     "start_time": "2025-03-21T15:52:19.322106Z"
    }
   },
   "outputs": [],
   "source": [
    "data.head()"
   ]
  },
  {
   "cell_type": "code",
   "execution_count": null,
   "id": "94906da7ac2afe48",
   "metadata": {
    "ExecuteTime": {
     "end_time": "2025-03-21T15:52:20.175122Z",
     "start_time": "2025-03-21T15:52:20.166080Z"
    }
   },
   "outputs": [],
   "source": [
    "data.info()"
   ]
  },
  {
   "cell_type": "markdown",
   "id": "734b3c5b3b06f651",
   "metadata": {},
   "source": [
    "# I. Preprocessing Data"
   ]
  },
  {
   "cell_type": "markdown",
   "id": "10fa6ec964867418",
   "metadata": {},
   "source": [
    "## 1. Cleaning our data\n",
    "\n",
    "-"
   ]
  },
  {
   "cell_type": "code",
   "execution_count": null,
   "id": "f8cce7a1219709f6",
   "metadata": {
    "ExecuteTime": {
     "end_time": "2025-03-21T15:54:06.722021Z",
     "start_time": "2025-03-21T15:54:06.685404Z"
    }
   },
   "outputs": [],
   "source": [
    "data.dropna(how='all')\n",
    "data.drop_duplicates()\n",
    "\n",
    "data[\"Engine\"] = data[\"Engine\"].str.replace(' cc', '', regex=False).astype(float)\n",
    "\n",
    "data[['Max Power BHP', 'Max Power RPM']] = data['Max Power'].str.extract(r'(\\d+)\\s*bhp\\s*@\\s*(\\d+)\\s*rpm')\n",
    "data['Max Power BHP'] = pd.to_numeric(data['Max Power BHP'], errors='coerce')\n",
    "data['Max Power RPM'] = pd.to_numeric(data['Max Power RPM'], errors='coerce')\n",
    "\n",
    "data[['Max Torque Nm', 'Max Torque RPM']] = data['Max Torque'].str.extract(r'(\\d+)\\s*Nm\\s*@\\s*(\\d+)\\s*rpm')\n",
    "data['Max Torque Nm'] = pd.to_numeric(data['Max Torque Nm'], errors='coerce')\n",
    "data['Max Torque RPM'] = pd.to_numeric(data['Max Torque RPM'], errors='coerce')\n",
    "\n",
    "data = data.drop('Max Power', axis=1)\n",
    "data = data.drop('Max Torque', axis=1)"
   ]
  },
  {
   "cell_type": "markdown",
   "id": "967b33e0f4290b41",
   "metadata": {},
   "source": [
    "spltio\n"
   ]
  },
  {
   "cell_type": "code",
   "execution_count": null,
   "id": "305666cd",
   "metadata": {},
   "outputs": [],
   "source": [
    "data[\"Drivetrain\"].value_counts()"
   ]
  },
  {
   "cell_type": "code",
   "execution_count": null,
   "id": "e37abad2",
   "metadata": {},
   "outputs": [],
   "source": [
    "data[\"Fuel Type\"].value_counts()"
   ]
  },
  {
   "cell_type": "code",
   "execution_count": null,
   "id": "d3bb5343",
   "metadata": {},
   "outputs": [],
   "source": [
    "# Get the unique values before making changes\n",
    "print(\"Unique values before:\", data[\"Fuel Type\"].unique())\n",
    "\n",
    "# Replace less common fuel types with 'Others'\n",
    "rare_fuel_types = ['Electric', 'LPG', 'Hybrid', 'CNG + CNG', 'Petrol + LPG']\n",
    "data[\"Fuel Type\"] = data[\"Fuel Type\"].apply(lambda x: 'Others' if x in rare_fuel_types else x)\n",
    "\n",
    "# Check the unique values after making changes\n",
    "print(\"Unique values after:\", data[\"Fuel Type\"].unique())"
   ]
  },
  {
   "cell_type": "code",
   "execution_count": null,
   "id": "16350a3e93c08f5c",
   "metadata": {
    "ExecuteTime": {
     "end_time": "2025-03-21T15:54:12.158629Z",
     "start_time": "2025-03-21T15:54:12.155136Z"
    }
   },
   "outputs": [],
   "source": [
    "# Apply preprocessing\n",
    "train_df, val_df, test_df, preprocessor = preprocess_data(\n",
    "    data=data, \n",
    "    save_path='./processed_data/'\n",
    ")"
   ]
  },
  {
   "cell_type": "code",
   "execution_count": null,
   "id": "d08140b7",
   "metadata": {},
   "outputs": [],
   "source": [
    "train_df.head()"
   ]
  },
  {
   "cell_type": "code",
   "execution_count": null,
   "id": "ccb1ff3a",
   "metadata": {},
   "outputs": [],
   "source": [
    "### Insert feature engineer code \n",
    "### For simplicity, just choose all features, drop Make, Model and standard hypothesis model\n",
    "train_df = train_df.drop(['Make', 'Model', 'Transmission', 'Location', 'Color', 'Seller Type'], axis=1)\n",
    "val_df = val_df.drop(['Make', 'Model', 'Transmission', 'Location', 'Color', 'Seller Type'], axis=1)\n",
    "test_df = test_df.drop(['Make', 'Model', 'Transmission', 'Location', 'Color', 'Seller Type'], axis=1)\n",
    "\n",
    "\n",
    "# Check if there are any columns with object type in the transformed dataframes\n",
    "print(\"Train DataFrame Object Types:\", train_df.select_dtypes(include=['object']).columns.tolist())\n",
    "print(\"Val DataFrame Object Types:\", val_df.select_dtypes(include=['object']).columns.tolist())\n",
    "print(\"Test DataFrame Object Types:\", test_df.select_dtypes(include=['object']).columns.tolist())\n",
    "\n",
    "# If there are object columns, convert them to numeric\n",
    "for df in [train_df, val_df, test_df]:\n",
    "    for col in df.columns:\n",
    "        if df[col].dtype == 'object':\n",
    "            df[col] = pd.to_numeric(df[col])\n",
    "\n",
    "# Verify the conversion worked\n",
    "print(\"\\nAfter conversion:\")\n",
    "print(\"Train DataFrame Types:\", train_df.dtypes.value_counts())\n",
    "print(\"Val DataFrame Types:\", val_df.dtypes.value_counts())\n",
    "print(\"Test DataFrame Types:\", test_df.dtypes.value_counts())"
   ]
  },
  {
   "cell_type": "code",
   "execution_count": null,
   "id": "3b7acb80",
   "metadata": {},
   "outputs": [],
   "source": [
    "from modelling.Model import StandardRegression\n",
    "model = StandardRegression()\n",
    "train_df = model.transform_features(train_df)\n",
    "val_df = model.transform_features(val_df)\n",
    "test_df = model.transform_features(test_df)\n",
    "\n",
    "model.fit(train_df.drop('Price', axis=1), train_df['Price'])\n",
    "print(model.score_log(val_df.drop('Price', axis=1), np.exp(val_df['Price'])))"
   ]
  },
  {
   "cell_type": "code",
   "execution_count": null,
   "id": "9c659839",
   "metadata": {},
   "outputs": [],
   "source": []
  }
 ],
 "metadata": {
  "kernelspec": {
   "display_name": "test_env",
   "language": "python",
   "name": "python3"
  },
  "language_info": {
   "codemirror_mode": {
    "name": "ipython",
    "version": 3
   },
   "file_extension": ".py",
   "mimetype": "text/x-python",
   "name": "python",
   "nbconvert_exporter": "python",
   "pygments_lexer": "ipython3",
   "version": "3.11.9"
  }
 },
 "nbformat": 4,
 "nbformat_minor": 5
}
