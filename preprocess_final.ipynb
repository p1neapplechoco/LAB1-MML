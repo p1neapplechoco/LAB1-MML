{
 "cells": [
  {
   "cell_type": "markdown",
   "id": "1ae57d3f2dd6d2d5",
   "metadata": {},
   "source": [
    "# Installing required libraries"
   ]
  },
  {
   "cell_type": "code",
   "execution_count": null,
   "id": "initial_id",
   "metadata": {
    "ExecuteTime": {
     "end_time": "2025-03-21T15:52:16.068142Z",
     "start_time": "2025-03-21T15:52:08.770922Z"
    },
    "collapsed": true
   },
   "outputs": [],
   "source": [
    "# %pip install numpy\n",
    "# %pip install pandas\n",
    "# %pip install matplotlib\n",
    "# %pip install seaborn\n",
    "# %pip install scipy"
   ]
  },
  {
   "cell_type": "code",
   "execution_count": null,
   "id": "7e6d4069976b359c",
   "metadata": {
    "ExecuteTime": {
     "end_time": "2025-03-21T15:54:00.872028Z",
     "start_time": "2025-03-21T15:54:00.868165Z"
    }
   },
   "outputs": [],
   "source": [
    "from preprocessor.DataPreprocessor import DataPreprocessor\n",
    "from modelling.SplitDataset import SplitDataset\n",
    "from preprocessor.sklearn_preprocessor import preprocess_data\n",
    "\n",
    "import pandas as pd\n",
    "import seaborn as sns\n",
    "import numpy as np\n",
    "import matplotlib.pyplot as plt"
   ]
  },
  {
   "cell_type": "code",
   "execution_count": null,
   "id": "d951e7fa75fc15d4",
   "metadata": {
    "ExecuteTime": {
     "end_time": "2025-03-21T15:54:02.068799Z",
     "start_time": "2025-03-21T15:54:02.056854Z"
    }
   },
   "outputs": [],
   "source": [
    "path = './data/'\n",
    "data = pd.read_csv(path + 'train.csv')"
   ]
  },
  {
   "cell_type": "code",
   "execution_count": null,
   "id": "3e541859c945d483",
   "metadata": {
    "ExecuteTime": {
     "end_time": "2025-03-21T15:54:03.070804Z",
     "start_time": "2025-03-21T15:54:03.066296Z"
    }
   },
   "outputs": [],
   "source": [
    "print(f'Số lượng dòng của data: {len(data)}')\n",
    "print(data.columns)"
   ]
  },
  {
   "cell_type": "code",
   "execution_count": null,
   "id": "fe90b91f34e8a1b5",
   "metadata": {
    "ExecuteTime": {
     "end_time": "2025-03-21T15:52:19.332606Z",
     "start_time": "2025-03-21T15:52:19.322106Z"
    }
   },
   "outputs": [],
   "source": [
    "data.head()"
   ]
  },
  {
   "cell_type": "code",
   "execution_count": null,
   "id": "94906da7ac2afe48",
   "metadata": {
    "ExecuteTime": {
     "end_time": "2025-03-21T15:52:20.175122Z",
     "start_time": "2025-03-21T15:52:20.166080Z"
    }
   },
   "outputs": [],
   "source": [
    "data.info()"
   ]
  },
  {
   "cell_type": "markdown",
   "id": "734b3c5b3b06f651",
   "metadata": {},
   "source": [
    "# I. Preprocessing Data"
   ]
  },
  {
   "cell_type": "markdown",
   "id": "10fa6ec964867418",
   "metadata": {},
   "source": [
    "## 1. Cleaning our data\n",
    "\n",
    "-"
   ]
  },
  {
   "cell_type": "code",
   "execution_count": null,
   "id": "f8cce7a1219709f6",
   "metadata": {
    "ExecuteTime": {
     "end_time": "2025-03-21T15:54:06.722021Z",
     "start_time": "2025-03-21T15:54:06.685404Z"
    }
   },
   "outputs": [],
   "source": [
    "data.dropna(how='all')\n",
    "data.drop_duplicates()\n",
    "\n",
    "data[\"Engine\"] = data[\"Engine\"].str.replace(' cc', '', regex=False).astype(float)\n",
    "\n",
    "data[['Max Power BHP', 'Max Power RPM']] = data['Max Power'].str.extract(r'(\\d+)\\s*bhp\\s*@\\s*(\\d+)\\s*rpm')\n",
    "data['Max Power BHP'] = pd.to_numeric(data['Max Power BHP'], errors='coerce')\n",
    "data['Max Power RPM'] = pd.to_numeric(data['Max Power RPM'], errors='coerce')\n",
    "\n",
    "data[['Max Torque Nm', 'Max Torque RPM']] = data['Max Torque'].str.extract(r'(\\d+)\\s*Nm\\s*@\\s*(\\d+)\\s*rpm')\n",
    "data['Max Torque Nm'] = pd.to_numeric(data['Max Torque Nm'], errors='coerce')\n",
    "data['Max Torque RPM'] = pd.to_numeric(data['Max Torque RPM'], errors='coerce')\n",
    "\n",
    "data = data.drop('Max Power', axis=1)\n",
    "data = data.drop('Max Torque', axis=1)"
   ]
  },
  {
   "cell_type": "markdown",
   "id": "967b33e0f4290b41",
   "metadata": {},
   "source": [
    "spltio\n"
   ]
  },
  {
   "cell_type": "code",
   "execution_count": null,
   "id": "305666cd",
   "metadata": {},
   "outputs": [],
   "source": [
    "data[\"Drivetrain\"].value_counts()"
   ]
  },
  {
   "cell_type": "code",
   "execution_count": null,
   "id": "e37abad2",
   "metadata": {},
   "outputs": [],
   "source": [
    "data[\"Fuel Type\"].value_counts()"
   ]
  },
  {
   "cell_type": "code",
   "execution_count": null,
   "id": "d3bb5343",
   "metadata": {},
   "outputs": [],
   "source": [
    "# Get the unique values before making changes\n",
    "print(\"Unique values before:\", data[\"Fuel Type\"].unique())\n",
    "\n",
    "# Replace less common fuel types with 'Others'\n",
    "rare_fuel_types = ['Electric', 'LPG', 'Hybrid', 'CNG + CNG', 'Petrol + LPG']\n",
    "data[\"Fuel Type\"] = data[\"Fuel Type\"].apply(lambda x: 'Others' if x in rare_fuel_types else x)\n",
    "\n",
    "# Check the unique values after making changes\n",
    "print(\"Unique values after:\", data[\"Fuel Type\"].unique())"
   ]
  },
  {
   "cell_type": "code",
   "execution_count": null,
   "id": "16350a3e93c08f5c",
   "metadata": {
    "ExecuteTime": {
     "end_time": "2025-03-21T15:54:12.158629Z",
     "start_time": "2025-03-21T15:54:12.155136Z"
    }
   },
   "outputs": [],
   "source": [
    "# Apply preprocessing\n",
    "train_df, val_df, test_df, preprocessor = preprocess_data(\n",
    "    data=data, \n",
    "    save_path='./processed_data/'\n",
    ")"
   ]
  },
  {
   "cell_type": "code",
   "execution_count": null,
   "id": "7efdf65ed89096aa",
   "metadata": {
    "ExecuteTime": {
     "end_time": "2025-03-21T15:54:13.379623Z",
     "start_time": "2025-03-21T15:54:13.373570Z"
    }
   },
   "outputs": [],
   "source": [
    "train_df.to_csv(path + 'train_.csv', index=False)\n",
    "val_df.to_csv(path + 'val_.csv', index=False)\n",
    "test_df.to_csv(path + 'test_.csv', index=False)"
   ]
  },
  {
   "cell_type": "markdown",
   "id": "3a062edaacfd13eb",
   "metadata": {},
   "source": [
    "## 2. Dealing with missing values"
   ]
  },
  {
   "cell_type": "code",
   "execution_count": null,
   "id": "bda10ff30091bd7c",
   "metadata": {
    "ExecuteTime": {
     "end_time": "2025-03-21T15:56:12.256810Z",
     "start_time": "2025-03-21T15:56:12.250093Z"
    }
   },
   "outputs": [],
   "source": [
    "preprocessor = DataPreprocessor(data)\n",
    "\n",
    "data.isna().sum()"
   ]
  },
  {
   "cell_type": "code",
   "execution_count": null,
   "id": "d9b52e97ab253eec",
   "metadata": {
    "ExecuteTime": {
     "end_time": "2025-03-21T15:56:30.478768Z",
     "start_time": "2025-03-21T15:56:30.472909Z"
    }
   },
   "outputs": [],
   "source": [
    "data.columns[data.isnull().any()]"
   ]
  },
  {
   "cell_type": "markdown",
   "id": "7fa446e0bd06ee5d",
   "metadata": {},
   "source": [
    "### 2.1. Filling with mean"
   ]
  },
  {
   "cell_type": "code",
   "execution_count": null,
   "id": "65288f9b5c8736cb",
   "metadata": {
    "ExecuteTime": {
     "end_time": "2025-03-21T15:58:17.979320Z",
     "start_time": "2025-03-21T15:58:17.970426Z"
    }
   },
   "outputs": [],
   "source": [
    "mean_columns = ['Engine', 'Length', 'Width', 'Height', 'Seating Capacity', 'Fuel Tank Capacity', 'Max Power BHP', 'Max Power RPM', 'Max Torque Nm','Max Torque RPM']\n",
    "data = preprocessor.fill_mean(mean_columns)\n",
    "\n",
    "data.isna().sum()"
   ]
  },
  {
   "cell_type": "markdown",
   "id": "bd646341a8c114cc",
   "metadata": {},
   "source": [
    "### 2.2. Filling with median"
   ]
  },
  {
   "cell_type": "code",
   "execution_count": null,
   "id": "43c6acab0cfa0aa8",
   "metadata": {},
   "outputs": [],
   "source": [
    "median_columns = []\n",
    "data = preprocessor.fill_median(median_columns)\n",
    "\n",
    "data.isna().sum()"
   ]
  },
  {
   "cell_type": "markdown",
   "id": "f71e60fb635face3",
   "metadata": {},
   "source": [
    "### 2.3. Filling with the most common value"
   ]
  },
  {
   "cell_type": "code",
   "execution_count": null,
   "id": "299b824b194540e7",
   "metadata": {},
   "outputs": [],
   "source": [
    "mode_columns = []\n",
    "data = preprocessor.fill_mode(mode_columns)\n",
    "\n",
    "data.isna().sum()"
   ]
  },
  {
   "cell_type": "markdown",
   "id": "a1830a3fffcac430",
   "metadata": {},
   "source": [
    "### 2.4. Filling using KNN (K-nearest neighbour)"
   ]
  },
  {
   "cell_type": "code",
   "execution_count": null,
   "id": "a1677642d589772a",
   "metadata": {
    "ExecuteTime": {
     "end_time": "2025-03-21T15:58:27.987425Z",
     "start_time": "2025-03-21T15:58:24.829476Z"
    }
   },
   "outputs": [],
   "source": [
    "knn_columns = ['Drivetrain']\n",
    "data = preprocessor.fill_knn(columns=knn_columns, k=5)\n",
    "\n",
    "data.isna().sum()"
   ]
  },
  {
   "cell_type": "markdown",
   "id": "d400e4a9d19e53ab",
   "metadata": {},
   "source": [
    "## 3. Encoding categorical values"
   ]
  },
  {
   "cell_type": "markdown",
   "id": "5d6df3056d17b42a",
   "metadata": {},
   "source": [
    "### 3.1. Ordinal encoding"
   ]
  },
  {
   "cell_type": "code",
   "execution_count": null,
   "id": "59cdd3e5e179178b",
   "metadata": {
    "ExecuteTime": {
     "end_time": "2025-03-21T15:58:34.925578Z",
     "start_time": "2025-03-21T15:58:34.897528Z"
    }
   },
   "outputs": [],
   "source": [
    "preprocessor = DataPreprocessor(data)\n",
    "ata = preprocessor.ordinal_encode(col='Owner', to={\n",
    "    \"UnRegistered Car\": 0,\n",
    "    \"First\": 1,\n",
    "    \"Second\": 2,\n",
    "    \"Third\": 3,\n",
    "    \"Fourth\": 4,\n",
    "    \"4 or More\": 4\n",
    "})\n",
    "\n",
    "data"
   ]
  },
  {
   "cell_type": "markdown",
   "id": "1fda9a1d78a1b9bf",
   "metadata": {},
   "source": [
    "### 3.2. One-hot encoding"
   ]
  },
  {
   "cell_type": "code",
   "execution_count": null,
   "id": "d5a6d8f3a56bf4e5",
   "metadata": {
    "ExecuteTime": {
     "end_time": "2025-03-21T15:58:43.657448Z",
     "start_time": "2025-03-21T15:58:43.639437Z"
    }
   },
   "outputs": [],
   "source": [
    "data"
   ]
  },
  {
   "cell_type": "code",
   "execution_count": null,
   "id": "93f0ae7679b814ce",
   "metadata": {
    "ExecuteTime": {
     "end_time": "2025-03-21T15:58:46.824231Z",
     "start_time": "2025-03-21T15:58:46.804634Z"
    }
   },
   "outputs": [],
   "source": [
    "one_hot_columns = ['Drivetrain', 'Fuel Type']\n",
    "threshold = 0 # should be an integer\n",
    "data = preprocessor.one_hot_encode(columns=one_hot_columns, threshold=threshold)\n",
    "\n",
    "data"
   ]
  },
  {
   "cell_type": "markdown",
   "id": "4183164b52c52ffa",
   "metadata": {},
   "source": [
    "## 4. Scaling our data"
   ]
  },
  {
   "cell_type": "markdown",
   "id": "fbc3129f3f5de750",
   "metadata": {},
   "source": [
    "plot"
   ]
  },
  {
   "cell_type": "code",
   "execution_count": null,
   "id": "73a9d07d1c2ede6d",
   "metadata": {
    "ExecuteTime": {
     "end_time": "2025-03-21T15:59:11.134410Z",
     "start_time": "2025-03-21T15:59:11.128402Z"
    }
   },
   "outputs": [],
   "source": [
    "import math\n",
    "\n",
    "def visualize_relationship_with_a_variable(df: pd.DataFrame, col: str=None):\n",
    "    numeric_data = df.select_dtypes(include=['number'])\n",
    "\n",
    "    correlations = numeric_data.corr()[col]\n",
    "    num_cols = [c for c in numeric_data.columns if c != \"Price\"]\n",
    "\n",
    "    num_plots = len(num_cols)\n",
    "    cols_per_row = 3\n",
    "    num_rows = math.ceil(num_plots / cols_per_row)\n",
    "\n",
    "    fig, axes = plt.subplots(num_rows, cols_per_row, figsize=(5 * cols_per_row, 5 * num_rows))\n",
    "\n",
    "    axes = axes.flatten()\n",
    "\n",
    "    for i, col in enumerate(num_cols):\n",
    "        corr_value = correlations[col]\n",
    "        sns.scatterplot(x=numeric_data[col], y=numeric_data[\"Price\"], ax=axes[i])\n",
    "        axes[i].set_title(f\"{col} vs Price (corr={corr_value:.2f})\")\n",
    "        axes[i].set_xlabel(col)\n",
    "        axes[i].set_ylabel(\"Price\")\n",
    "\n",
    "    for j in range(i + 1, len(axes)):\n",
    "        fig.delaxes(axes[j])\n",
    "\n",
    "    plt.tight_layout()\n",
    "    plt.show()"
   ]
  },
  {
   "cell_type": "code",
   "execution_count": null,
   "id": "5ceb18e51255b215",
   "metadata": {
    "ExecuteTime": {
     "end_time": "2025-03-21T15:59:14.038631Z",
     "start_time": "2025-03-21T15:59:12.548311Z"
    }
   },
   "outputs": [],
   "source": [
    "visualize_relationship_with_a_variable(data, 'Price')"
   ]
  },
  {
   "cell_type": "markdown",
   "id": "bc37fce61250c839",
   "metadata": {},
   "source": [
    "### 4.1. Log transformation"
   ]
  },
  {
   "cell_type": "code",
   "execution_count": null,
   "id": "9704a12b10855c7f",
   "metadata": {
    "ExecuteTime": {
     "end_time": "2025-03-21T15:59:45.683910Z",
     "start_time": "2025-03-21T15:59:45.667894Z"
    }
   },
   "outputs": [],
   "source": [
    "log_column = ['Price', 'Max Torque RPM'] ## vi data['Price'] co gia tri dac biet (cao bat thuong)\n",
    "data = preprocessor.log_norm(log_column)\n",
    "\n",
    "data"
   ]
  },
  {
   "cell_type": "markdown",
   "id": "b92e747041a04a3d",
   "metadata": {},
   "source": [
    "### 4.2. Min-Max scaling"
   ]
  },
  {
   "cell_type": "code",
   "execution_count": null,
   "id": "dfaad61e320749f2",
   "metadata": {
    "ExecuteTime": {
     "end_time": "2025-03-21T16:04:51.264955Z",
     "start_time": "2025-03-21T16:04:51.247891Z"
    }
   },
   "outputs": [],
   "source": [
    "minmax_columns = ['Year', 'Kilometer']\n",
    "data = preprocessor.minmax_norm(minmax_columns)\n",
    "\n",
    "data"
   ]
  },
  {
   "cell_type": "markdown",
   "id": "6931cce0432343c0",
   "metadata": {},
   "source": [
    "### 4.3. Standardization"
   ]
  },
  {
   "cell_type": "code",
   "execution_count": null,
   "id": "38b2753cfdede6c0",
   "metadata": {
    "ExecuteTime": {
     "end_time": "2025-03-21T16:01:59.681461Z",
     "start_time": "2025-03-21T16:01:59.662897Z"
    }
   },
   "outputs": [],
   "source": [
    "std_column = ['Max Power RPM', 'Owner']\n",
    "data = preprocessor.standard_norm(std_column)\n",
    "\n",
    "data"
   ]
  },
  {
   "cell_type": "markdown",
   "id": "b87a5f3e610060a",
   "metadata": {},
   "source": [
    "### 4.4 Robust scaling"
   ]
  },
  {
   "cell_type": "code",
   "execution_count": null,
   "id": "662aedaa15231bcc",
   "metadata": {},
   "outputs": [],
   "source": [
    "robust_column = []\n",
    "focus = 0.5\n",
    "data = preprocessor.robust_norm(robust_column, focus)\n",
    "\n",
    "data"
   ]
  },
  {
   "cell_type": "markdown",
   "id": "193a0274e0d2fba1",
   "metadata": {},
   "source": [
    "vis"
   ]
  },
  {
   "cell_type": "code",
   "execution_count": null,
   "id": "e64c1283535a8d95",
   "metadata": {
    "ExecuteTime": {
     "end_time": "2025-03-21T16:04:59.302353Z",
     "start_time": "2025-03-21T16:04:58.015923Z"
    }
   },
   "outputs": [],
   "source": [
    "visualize_relationship_with_a_variable(data, 'Price')"
   ]
  },
  {
   "cell_type": "code",
   "execution_count": null,
   "id": "6da6e29dfbfa5f7",
   "metadata": {
    "ExecuteTime": {
     "end_time": "2025-03-21T16:05:18.814961Z",
     "start_time": "2025-03-21T16:05:18.798584Z"
    }
   },
   "outputs": [],
   "source": [
    "data.to_csv(path + 'preprocessed_train_.csv', index=False)"
   ]
  },
  {
   "cell_type": "code",
   "execution_count": null,
   "id": "a5400fb5",
   "metadata": {},
   "outputs": [],
   "source": []
  }
 ],
 "metadata": {
  "kernelspec": {
   "display_name": "test_env",
   "language": "python",
   "name": "python3"
  },
  "language_info": {
   "codemirror_mode": {
    "name": "ipython",
    "version": 3
   },
   "file_extension": ".py",
   "mimetype": "text/x-python",
   "name": "python",
   "nbconvert_exporter": "python",
   "pygments_lexer": "ipython3",
   "version": "3.11.9"
  }
 },
 "nbformat": 4,
 "nbformat_minor": 5
}
