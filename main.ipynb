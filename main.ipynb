{
 "cells": [
  {
   "cell_type": "code",
   "id": "7e35a9f9-b360-4767-818e-e5662bc92e9b",
   "metadata": {
    "ExecuteTime": {
     "end_time": "2025-03-21T07:19:00.275715Z",
     "start_time": "2025-03-21T07:18:52.041605Z"
    }
   },
   "source": [
    "%pip install numpy\n",
    "%pip install pandas\n",
    "%pip install matplotlib\n",
    "%pip install scipy"
   ],
   "outputs": [
    {
     "name": "stdout",
     "output_type": "stream",
     "text": [
      "Requirement already satisfied: numpy in c:\\users\\phine\\miniconda3\\lib\\site-packages (2.2.4)\n",
      "Note: you may need to restart the kernel to use updated packages.\n",
      "Requirement already satisfied: pandas in c:\\users\\phine\\miniconda3\\lib\\site-packages (2.2.3)\n",
      "Requirement already satisfied: numpy>=1.26.0 in c:\\users\\phine\\miniconda3\\lib\\site-packages (from pandas) (2.2.4)\n",
      "Requirement already satisfied: python-dateutil>=2.8.2 in c:\\users\\phine\\miniconda3\\lib\\site-packages (from pandas) (2.9.0.post0)\n",
      "Requirement already satisfied: pytz>=2020.1 in c:\\users\\phine\\miniconda3\\lib\\site-packages (from pandas) (2025.1)\n",
      "Requirement already satisfied: tzdata>=2022.7 in c:\\users\\phine\\miniconda3\\lib\\site-packages (from pandas) (2025.1)\n",
      "Requirement already satisfied: six>=1.5 in c:\\users\\phine\\miniconda3\\lib\\site-packages (from python-dateutil>=2.8.2->pandas) (1.17.0)\n",
      "Note: you may need to restart the kernel to use updated packages.\n",
      "Requirement already satisfied: matplotlib in c:\\users\\phine\\miniconda3\\lib\\site-packages (3.10.1)\n",
      "Requirement already satisfied: contourpy>=1.0.1 in c:\\users\\phine\\miniconda3\\lib\\site-packages (from matplotlib) (1.3.1)\n",
      "Requirement already satisfied: cycler>=0.10 in c:\\users\\phine\\miniconda3\\lib\\site-packages (from matplotlib) (0.12.1)\n",
      "Requirement already satisfied: fonttools>=4.22.0 in c:\\users\\phine\\miniconda3\\lib\\site-packages (from matplotlib) (4.56.0)\n",
      "Requirement already satisfied: kiwisolver>=1.3.1 in c:\\users\\phine\\miniconda3\\lib\\site-packages (from matplotlib) (1.4.8)\n",
      "Requirement already satisfied: numpy>=1.23 in c:\\users\\phine\\miniconda3\\lib\\site-packages (from matplotlib) (2.2.4)\n",
      "Requirement already satisfied: packaging>=20.0 in c:\\users\\phine\\miniconda3\\lib\\site-packages (from matplotlib) (24.1)\n",
      "Requirement already satisfied: pillow>=8 in c:\\users\\phine\\miniconda3\\lib\\site-packages (from matplotlib) (11.1.0)\n",
      "Requirement already satisfied: pyparsing>=2.3.1 in c:\\users\\phine\\miniconda3\\lib\\site-packages (from matplotlib) (3.2.1)\n",
      "Requirement already satisfied: python-dateutil>=2.7 in c:\\users\\phine\\miniconda3\\lib\\site-packages (from matplotlib) (2.9.0.post0)\n",
      "Requirement already satisfied: six>=1.5 in c:\\users\\phine\\miniconda3\\lib\\site-packages (from python-dateutil>=2.7->matplotlib) (1.17.0)\n",
      "Note: you may need to restart the kernel to use updated packages.\n",
      "Requirement already satisfied: scipy in c:\\users\\phine\\miniconda3\\lib\\site-packages (1.15.2)\n",
      "Requirement already satisfied: numpy<2.5,>=1.23.5 in c:\\users\\phine\\miniconda3\\lib\\site-packages (from scipy) (2.2.4)\n",
      "Note: you may need to restart the kernel to use updated packages.\n"
     ]
    }
   ],
   "execution_count": 85
  },
  {
   "cell_type": "code",
   "id": "baf20907",
   "metadata": {
    "ExecuteTime": {
     "end_time": "2025-03-21T07:19:00.283925Z",
     "start_time": "2025-03-21T07:19:00.279723Z"
    }
   },
   "source": [
    "import numpy as np\n",
    "import pandas as pd\n",
    "import matplotlib.pyplot as plt\n",
    "from pandas.api.types import is_numeric_dtype\n",
    "\n",
    "from collections import Counter"
   ],
   "outputs": [],
   "execution_count": 86
  },
  {
   "cell_type": "code",
   "id": "5bdbbfe3",
   "metadata": {
    "ExecuteTime": {
     "end_time": "2025-03-21T07:19:00.347449Z",
     "start_time": "2025-03-21T07:19:00.333984Z"
    }
   },
   "source": [
    "path = './data/'\n",
    "\n",
    "data = pd.read_csv(path + 'train.csv')\n",
    "\n",
    "print(len(data))\n",
    "print(data.columns)"
   ],
   "outputs": [
    {
     "name": "stdout",
     "output_type": "stream",
     "text": [
      "1647\n",
      "Index(['Make', 'Model', 'Price', 'Year', 'Kilometer', 'Fuel Type',\n",
      "       'Transmission', 'Location', 'Color', 'Owner', 'Seller Type', 'Engine',\n",
      "       'Max Power', 'Max Torque', 'Drivetrain', 'Length', 'Width', 'Height',\n",
      "       'Seating Capacity', 'Fuel Tank Capacity'],\n",
      "      dtype='object')\n"
     ]
    }
   ],
   "execution_count": 87
  },
  {
   "cell_type": "code",
   "id": "ef8e5811",
   "metadata": {
    "ExecuteTime": {
     "end_time": "2025-03-21T07:19:00.414055Z",
     "start_time": "2025-03-21T07:19:00.397531Z"
    }
   },
   "source": [
    "data.head()"
   ],
   "outputs": [
    {
     "data": {
      "text/plain": [
       "            Make                            Model     Price  Year  Kilometer  \\\n",
       "0            BMW                    3-Series 320d    800000  2012      75576   \n",
       "1            BMW               X1 sDrive20d xLine   2199000  2016      77000   \n",
       "2       Mahindra                   XUV500 W4 1.99    800000  2017     112000   \n",
       "3  Mercedes-Benz                  GLS 400d 4MATIC  12900000  2021       3000   \n",
       "4         Toyota  Fortuner 2.8 4x2 AT [2016-2020]   3499000  2019      73000   \n",
       "\n",
       "  Fuel Type Transmission     Location   Color   Owner Seller Type   Engine  \\\n",
       "0    Diesel    Automatic       Mumbai   White  Second  Individual      NaN   \n",
       "1    Diesel    Automatic        Surat   Black   First  Individual  1995 cc   \n",
       "2    Diesel       Manual  Muzaffurpur  Silver   First  Individual  1997 cc   \n",
       "3    Diesel    Automatic        Delhi   White   First  Individual  2925 cc   \n",
       "4    Diesel    Automatic       Mumbai   White   First  Individual  2755 cc   \n",
       "\n",
       "            Max Power         Max Torque Drivetrain  Length   Width  Height  \\\n",
       "0                 NaN                NaN        NaN     NaN     NaN     NaN   \n",
       "1  184 bhp @ 4000 rpm  350 Nm @ 1750 rpm        RWD  4454.0  2044.0  1545.0   \n",
       "2  138 bhp @ 3750 rpm  320 Nm @ 1600 rpm        FWD  4585.0  1890.0  1785.0   \n",
       "3  326 bhp @ 3600 rpm  700 Nm @ 1200 rpm        AWD  5207.0  2157.0  1823.0   \n",
       "4  174 bhp @ 3400 rpm  450 Nm @ 1600 rpm        RWD  4795.0  1855.0  1835.0   \n",
       "\n",
       "   Seating Capacity  Fuel Tank Capacity  \n",
       "0               NaN                 NaN  \n",
       "1               5.0                63.0  \n",
       "2               7.0                70.0  \n",
       "3               7.0                90.0  \n",
       "4               7.0                80.0  "
      ],
      "text/html": [
       "<div>\n",
       "<style scoped>\n",
       "    .dataframe tbody tr th:only-of-type {\n",
       "        vertical-align: middle;\n",
       "    }\n",
       "\n",
       "    .dataframe tbody tr th {\n",
       "        vertical-align: top;\n",
       "    }\n",
       "\n",
       "    .dataframe thead th {\n",
       "        text-align: right;\n",
       "    }\n",
       "</style>\n",
       "<table border=\"1\" class=\"dataframe\">\n",
       "  <thead>\n",
       "    <tr style=\"text-align: right;\">\n",
       "      <th></th>\n",
       "      <th>Make</th>\n",
       "      <th>Model</th>\n",
       "      <th>Price</th>\n",
       "      <th>Year</th>\n",
       "      <th>Kilometer</th>\n",
       "      <th>Fuel Type</th>\n",
       "      <th>Transmission</th>\n",
       "      <th>Location</th>\n",
       "      <th>Color</th>\n",
       "      <th>Owner</th>\n",
       "      <th>Seller Type</th>\n",
       "      <th>Engine</th>\n",
       "      <th>Max Power</th>\n",
       "      <th>Max Torque</th>\n",
       "      <th>Drivetrain</th>\n",
       "      <th>Length</th>\n",
       "      <th>Width</th>\n",
       "      <th>Height</th>\n",
       "      <th>Seating Capacity</th>\n",
       "      <th>Fuel Tank Capacity</th>\n",
       "    </tr>\n",
       "  </thead>\n",
       "  <tbody>\n",
       "    <tr>\n",
       "      <th>0</th>\n",
       "      <td>BMW</td>\n",
       "      <td>3-Series 320d</td>\n",
       "      <td>800000</td>\n",
       "      <td>2012</td>\n",
       "      <td>75576</td>\n",
       "      <td>Diesel</td>\n",
       "      <td>Automatic</td>\n",
       "      <td>Mumbai</td>\n",
       "      <td>White</td>\n",
       "      <td>Second</td>\n",
       "      <td>Individual</td>\n",
       "      <td>NaN</td>\n",
       "      <td>NaN</td>\n",
       "      <td>NaN</td>\n",
       "      <td>NaN</td>\n",
       "      <td>NaN</td>\n",
       "      <td>NaN</td>\n",
       "      <td>NaN</td>\n",
       "      <td>NaN</td>\n",
       "      <td>NaN</td>\n",
       "    </tr>\n",
       "    <tr>\n",
       "      <th>1</th>\n",
       "      <td>BMW</td>\n",
       "      <td>X1 sDrive20d xLine</td>\n",
       "      <td>2199000</td>\n",
       "      <td>2016</td>\n",
       "      <td>77000</td>\n",
       "      <td>Diesel</td>\n",
       "      <td>Automatic</td>\n",
       "      <td>Surat</td>\n",
       "      <td>Black</td>\n",
       "      <td>First</td>\n",
       "      <td>Individual</td>\n",
       "      <td>1995 cc</td>\n",
       "      <td>184 bhp @ 4000 rpm</td>\n",
       "      <td>350 Nm @ 1750 rpm</td>\n",
       "      <td>RWD</td>\n",
       "      <td>4454.0</td>\n",
       "      <td>2044.0</td>\n",
       "      <td>1545.0</td>\n",
       "      <td>5.0</td>\n",
       "      <td>63.0</td>\n",
       "    </tr>\n",
       "    <tr>\n",
       "      <th>2</th>\n",
       "      <td>Mahindra</td>\n",
       "      <td>XUV500 W4 1.99</td>\n",
       "      <td>800000</td>\n",
       "      <td>2017</td>\n",
       "      <td>112000</td>\n",
       "      <td>Diesel</td>\n",
       "      <td>Manual</td>\n",
       "      <td>Muzaffurpur</td>\n",
       "      <td>Silver</td>\n",
       "      <td>First</td>\n",
       "      <td>Individual</td>\n",
       "      <td>1997 cc</td>\n",
       "      <td>138 bhp @ 3750 rpm</td>\n",
       "      <td>320 Nm @ 1600 rpm</td>\n",
       "      <td>FWD</td>\n",
       "      <td>4585.0</td>\n",
       "      <td>1890.0</td>\n",
       "      <td>1785.0</td>\n",
       "      <td>7.0</td>\n",
       "      <td>70.0</td>\n",
       "    </tr>\n",
       "    <tr>\n",
       "      <th>3</th>\n",
       "      <td>Mercedes-Benz</td>\n",
       "      <td>GLS 400d 4MATIC</td>\n",
       "      <td>12900000</td>\n",
       "      <td>2021</td>\n",
       "      <td>3000</td>\n",
       "      <td>Diesel</td>\n",
       "      <td>Automatic</td>\n",
       "      <td>Delhi</td>\n",
       "      <td>White</td>\n",
       "      <td>First</td>\n",
       "      <td>Individual</td>\n",
       "      <td>2925 cc</td>\n",
       "      <td>326 bhp @ 3600 rpm</td>\n",
       "      <td>700 Nm @ 1200 rpm</td>\n",
       "      <td>AWD</td>\n",
       "      <td>5207.0</td>\n",
       "      <td>2157.0</td>\n",
       "      <td>1823.0</td>\n",
       "      <td>7.0</td>\n",
       "      <td>90.0</td>\n",
       "    </tr>\n",
       "    <tr>\n",
       "      <th>4</th>\n",
       "      <td>Toyota</td>\n",
       "      <td>Fortuner 2.8 4x2 AT [2016-2020]</td>\n",
       "      <td>3499000</td>\n",
       "      <td>2019</td>\n",
       "      <td>73000</td>\n",
       "      <td>Diesel</td>\n",
       "      <td>Automatic</td>\n",
       "      <td>Mumbai</td>\n",
       "      <td>White</td>\n",
       "      <td>First</td>\n",
       "      <td>Individual</td>\n",
       "      <td>2755 cc</td>\n",
       "      <td>174 bhp @ 3400 rpm</td>\n",
       "      <td>450 Nm @ 1600 rpm</td>\n",
       "      <td>RWD</td>\n",
       "      <td>4795.0</td>\n",
       "      <td>1855.0</td>\n",
       "      <td>1835.0</td>\n",
       "      <td>7.0</td>\n",
       "      <td>80.0</td>\n",
       "    </tr>\n",
       "  </tbody>\n",
       "</table>\n",
       "</div>"
      ]
     },
     "execution_count": 88,
     "metadata": {},
     "output_type": "execute_result"
    }
   ],
   "execution_count": 88
  },
  {
   "metadata": {},
   "cell_type": "markdown",
   "source": "# PREPROCESS DATA",
   "id": "207032b82898cafa"
  },
  {
   "metadata": {},
   "cell_type": "markdown",
   "source": "## 1. Cleaning",
   "id": "11f482d247095bb2"
  },
  {
   "metadata": {
    "ExecuteTime": {
     "end_time": "2025-03-21T07:19:00.517853Z",
     "start_time": "2025-03-21T07:19:00.499840Z"
    }
   },
   "cell_type": "code",
   "source": [
    "data.dropna(how='all')\n",
    "\n",
    "data[\"Engine\"] = data[\"Engine\"].str.replace(' cc', '', regex=False).astype(float)\n",
    "\n",
    "data[['Max Power BHP', 'Max Power RPM']] = data['Max Power'].str.extract(r'(\\d+)\\s*bhp\\s*@\\s*(\\d+)\\s*rpm')\n",
    "data['Max Power BHP'] = pd.to_numeric(data['Max Power BHP'], errors='coerce')\n",
    "data['Max Power RPM'] = pd.to_numeric(data['Max Power RPM'], errors='coerce')\n",
    "\n",
    "data[['Max Torque Nm', 'Max Torque RPM']] = data['Max Torque'].str.extract(r'(\\d+)\\s*Nm\\s*@\\s*(\\d+)\\s*rpm')\n",
    "data['Max Torque Nm'] = pd.to_numeric(data['Max Torque Nm'], errors='coerce')\n",
    "data['Max Torque RPM'] = pd.to_numeric(data['Max Torque RPM'], errors='coerce')\n",
    "\n",
    "data = data.drop('Max Power', axis=1)\n",
    "data = data.drop('Max Torque', axis=1)\n",
    "\n"
   ],
   "id": "400e0f760b6eb472",
   "outputs": [],
   "execution_count": 89
  },
  {
   "metadata": {},
   "cell_type": "markdown",
   "source": "Số lượng dữ liệu bị thiếu ở các cột",
   "id": "4593ea36a79094df"
  },
  {
   "metadata": {
    "ExecuteTime": {
     "end_time": "2025-03-21T07:19:00.577253Z",
     "start_time": "2025-03-21T07:19:00.569816Z"
    }
   },
   "cell_type": "code",
   "source": "data.isna().sum()\n",
   "id": "80bbe2ef60fe80b5",
   "outputs": [
    {
     "data": {
      "text/plain": [
       "Make                    0\n",
       "Model                   0\n",
       "Price                   0\n",
       "Year                    0\n",
       "Kilometer               0\n",
       "Fuel Type               0\n",
       "Transmission            0\n",
       "Location                0\n",
       "Color                   0\n",
       "Owner                   0\n",
       "Seller Type             0\n",
       "Engine                 65\n",
       "Drivetrain            111\n",
       "Length                 52\n",
       "Width                  52\n",
       "Height                 52\n",
       "Seating Capacity       52\n",
       "Fuel Tank Capacity     90\n",
       "Max Power BHP         172\n",
       "Max Power RPM         172\n",
       "Max Torque Nm         168\n",
       "Max Torque RPM        168\n",
       "dtype: int64"
      ]
     },
     "execution_count": 90,
     "metadata": {},
     "output_type": "execute_result"
    }
   ],
   "execution_count": 90
  },
  {
   "metadata": {},
   "cell_type": "markdown",
   "source": "## 2. Xử lí dữ liệu bị thiếu",
   "id": "549f080a836f52af"
  },
  {
   "metadata": {
    "ExecuteTime": {
     "end_time": "2025-03-21T07:19:00.663599Z",
     "start_time": "2025-03-21T07:19:00.659503Z"
    }
   },
   "cell_type": "code",
   "source": [
    "def drop_na(df : pd.DataFrame):\n",
    "    return df.dropna(how='any')"
   ],
   "id": "ea2afbde5739a1dd",
   "outputs": [],
   "execution_count": 91
  },
  {
   "metadata": {},
   "cell_type": "markdown",
   "source": "### 2.1 Fill missing values with mean",
   "id": "b13d1df9b1c1cdda"
  },
  {
   "metadata": {
    "ExecuteTime": {
     "end_time": "2025-03-21T07:19:00.798377Z",
     "start_time": "2025-03-21T07:19:00.794475Z"
    }
   },
   "cell_type": "code",
   "source": [
    "def fill_mean(df : pd.DataFrame):\n",
    "    return df.apply(lambda x : x.fillna(x.mean()) if x.dtype.kind in 'biufc' else x)"
   ],
   "id": "e94724a1589a396",
   "outputs": [],
   "execution_count": 92
  },
  {
   "metadata": {
    "ExecuteTime": {
     "end_time": "2025-03-21T07:19:00.954469Z",
     "start_time": "2025-03-21T07:19:00.944873Z"
    }
   },
   "cell_type": "code",
   "source": "data_mean = fill_mean(data)",
   "id": "259d8ba97c2b8841",
   "outputs": [],
   "execution_count": 93
  },
  {
   "metadata": {
    "ExecuteTime": {
     "end_time": "2025-03-21T07:19:00.973429Z",
     "start_time": "2025-03-21T07:19:00.964612Z"
    }
   },
   "cell_type": "code",
   "source": "data_mean.isna().sum()",
   "id": "4f1e7106816346a0",
   "outputs": [
    {
     "data": {
      "text/plain": [
       "Make                    0\n",
       "Model                   0\n",
       "Price                   0\n",
       "Year                    0\n",
       "Kilometer               0\n",
       "Fuel Type               0\n",
       "Transmission            0\n",
       "Location                0\n",
       "Color                   0\n",
       "Owner                   0\n",
       "Seller Type             0\n",
       "Engine                  0\n",
       "Drivetrain            111\n",
       "Length                  0\n",
       "Width                   0\n",
       "Height                  0\n",
       "Seating Capacity        0\n",
       "Fuel Tank Capacity      0\n",
       "Max Power BHP           0\n",
       "Max Power RPM           0\n",
       "Max Torque Nm           0\n",
       "Max Torque RPM          0\n",
       "dtype: int64"
      ]
     },
     "execution_count": 94,
     "metadata": {},
     "output_type": "execute_result"
    }
   ],
   "execution_count": 94
  },
  {
   "metadata": {},
   "cell_type": "markdown",
   "source": "--> Các cột với kiểu dữ liệu str không thể được fill",
   "id": "92b34e23898ee13f"
  },
  {
   "metadata": {
    "ExecuteTime": {
     "end_time": "2025-03-21T07:19:01.074922Z",
     "start_time": "2025-03-21T07:19:01.055293Z"
    }
   },
   "cell_type": "code",
   "source": [
    "data_mean = drop_na(data_mean)\n",
    "data_mean.to_csv(path + 'train_mean.csv', index=False)"
   ],
   "id": "6bb32e064db05657",
   "outputs": [],
   "execution_count": 95
  },
  {
   "metadata": {},
   "cell_type": "markdown",
   "source": "### 2.2 Fill missing values with median",
   "id": "76b62751f18be8b9"
  },
  {
   "metadata": {
    "ExecuteTime": {
     "end_time": "2025-03-21T07:19:01.116490Z",
     "start_time": "2025-03-21T07:19:01.111368Z"
    }
   },
   "cell_type": "code",
   "source": [
    "def fill_median(df : pd.DataFrame):\n",
    "    return df.apply(lambda x: x.fillna(x.median()) if x.dtype.kind in 'biufc' else x)"
   ],
   "id": "35d62b2072001b49",
   "outputs": [],
   "execution_count": 96
  },
  {
   "metadata": {
    "ExecuteTime": {
     "end_time": "2025-03-21T07:19:01.169411Z",
     "start_time": "2025-03-21T07:19:01.158254Z"
    }
   },
   "cell_type": "code",
   "source": "data_median = fill_median(data)",
   "id": "88b5cd6e1eb6e486",
   "outputs": [],
   "execution_count": 97
  },
  {
   "metadata": {
    "ExecuteTime": {
     "end_time": "2025-03-21T07:19:01.279849Z",
     "start_time": "2025-03-21T07:19:01.267239Z"
    }
   },
   "cell_type": "code",
   "source": "data_median.isna().sum()",
   "id": "67eda2550efe665f",
   "outputs": [
    {
     "data": {
      "text/plain": [
       "Make                    0\n",
       "Model                   0\n",
       "Price                   0\n",
       "Year                    0\n",
       "Kilometer               0\n",
       "Fuel Type               0\n",
       "Transmission            0\n",
       "Location                0\n",
       "Color                   0\n",
       "Owner                   0\n",
       "Seller Type             0\n",
       "Engine                  0\n",
       "Drivetrain            111\n",
       "Length                  0\n",
       "Width                   0\n",
       "Height                  0\n",
       "Seating Capacity        0\n",
       "Fuel Tank Capacity      0\n",
       "Max Power BHP           0\n",
       "Max Power RPM           0\n",
       "Max Torque Nm           0\n",
       "Max Torque RPM          0\n",
       "dtype: int64"
      ]
     },
     "execution_count": 98,
     "metadata": {},
     "output_type": "execute_result"
    }
   ],
   "execution_count": 98
  },
  {
   "metadata": {},
   "cell_type": "markdown",
   "source": "--> Tương tự với mean, các cột có kiểu dữ liệu str không thể được fill",
   "id": "456b10f5502b7888"
  },
  {
   "metadata": {
    "ExecuteTime": {
     "end_time": "2025-03-21T07:19:01.332360Z",
     "start_time": "2025-03-21T07:19:01.313437Z"
    }
   },
   "cell_type": "code",
   "source": [
    "data_median = drop_na(data_median)\n",
    "data_median.to_csv(path + 'train_median.csv', index=False)"
   ],
   "id": "7e310d9468c374f3",
   "outputs": [],
   "execution_count": 99
  },
  {
   "metadata": {},
   "cell_type": "markdown",
   "source": "### 2.3 Fill missing values with most common value",
   "id": "e179325c12abe395"
  },
  {
   "metadata": {
    "ExecuteTime": {
     "end_time": "2025-03-21T07:19:01.366207Z",
     "start_time": "2025-03-21T07:19:01.361561Z"
    }
   },
   "cell_type": "code",
   "source": [
    "def fill_mode(df : pd.DataFrame):\n",
    "    return df.apply(lambda x: x.fillna(x.mode()[0]))"
   ],
   "id": "bca3c58a9242794d",
   "outputs": [],
   "execution_count": 100
  },
  {
   "metadata": {
    "ExecuteTime": {
     "end_time": "2025-03-21T07:19:01.465743Z",
     "start_time": "2025-03-21T07:19:01.452686Z"
    }
   },
   "cell_type": "code",
   "source": "data_mode = fill_mode(data)",
   "id": "be6da05a4783c53d",
   "outputs": [],
   "execution_count": 101
  },
  {
   "metadata": {
    "ExecuteTime": {
     "end_time": "2025-03-21T07:19:01.481344Z",
     "start_time": "2025-03-21T07:19:01.472102Z"
    }
   },
   "cell_type": "code",
   "source": "data_mode.isna().sum()",
   "id": "eef9286d7cd222dc",
   "outputs": [
    {
     "data": {
      "text/plain": [
       "Make                  0\n",
       "Model                 0\n",
       "Price                 0\n",
       "Year                  0\n",
       "Kilometer             0\n",
       "Fuel Type             0\n",
       "Transmission          0\n",
       "Location              0\n",
       "Color                 0\n",
       "Owner                 0\n",
       "Seller Type           0\n",
       "Engine                0\n",
       "Drivetrain            0\n",
       "Length                0\n",
       "Width                 0\n",
       "Height                0\n",
       "Seating Capacity      0\n",
       "Fuel Tank Capacity    0\n",
       "Max Power BHP         0\n",
       "Max Power RPM         0\n",
       "Max Torque Nm         0\n",
       "Max Torque RPM        0\n",
       "dtype: int64"
      ]
     },
     "execution_count": 102,
     "metadata": {},
     "output_type": "execute_result"
    }
   ],
   "execution_count": 102
  },
  {
   "metadata": {},
   "cell_type": "markdown",
   "source": "Không còn missing value",
   "id": "e3e23fa7f6bf2170"
  },
  {
   "metadata": {
    "ExecuteTime": {
     "end_time": "2025-03-21T07:19:01.583642Z",
     "start_time": "2025-03-21T07:19:01.563529Z"
    }
   },
   "cell_type": "code",
   "source": [
    "data_mode = drop_na(data_mode)\n",
    "data_mode.to_csv(path + 'train_mode.csv', index=False)"
   ],
   "id": "ec7c7daf51c81501",
   "outputs": [],
   "execution_count": 103
  },
  {
   "metadata": {},
   "cell_type": "markdown",
   "source": "### 2.4 K - Nearest Neighbour",
   "id": "4db54c6e264cb4e1"
  },
  {
   "metadata": {
    "ExecuteTime": {
     "end_time": "2025-03-21T07:19:01.690175Z",
     "start_time": "2025-03-21T07:19:01.681619Z"
    }
   },
   "cell_type": "code",
   "source": [
    "def euclidean_distance(row1, row2):\n",
    "    \"\"\"\n",
    "    Computes the Euclidean distance between two rows, ignoring NaN values and handling only numeric data.\n",
    "    Non-numeric data is excluded from the distance calculation.\n",
    "    \"\"\"\n",
    "    numeric_mask = pd.api.types.is_numeric_dtype(row1) and pd.api.types.is_numeric_dtype(row2)\n",
    "\n",
    "    if numeric_mask:\n",
    "        mask = ~np.isnan(row1) & ~np.isnan(row2)\n",
    "        if np.any(mask):\n",
    "            return np.sqrt(np.sum((row1[mask] - row2[mask]) ** 2))\n",
    "        else:\n",
    "            return np.inf\n",
    "    else:\n",
    "        return np.inf\n",
    "\n",
    "def fill_knn(df, k=3):\n",
    "    df_filled = df.copy()\n",
    "\n",
    "    for i, row in df_filled.iterrows():\n",
    "        if row.isnull().any():\n",
    "            distances = []\n",
    "\n",
    "            for j, other_row in df_filled.iterrows():\n",
    "                if not other_row.isnull().any():\n",
    "                    dist = euclidean_distance(row.values, other_row.values)\n",
    "                    distances.append((dist, j))\n",
    "\n",
    "            distances = sorted(distances, key=lambda x: x[0])\n",
    "            nearest_neighbors = [df_filled.iloc[j] for dist, j in distances[:k]]\n",
    "\n",
    "            for col in df_filled.columns:\n",
    "                if pd.isnull(df_filled.at[i, col]):\n",
    "                    neighbor_values = [neighbor[col] for neighbor in nearest_neighbors]\n",
    "                    neighbor_values = [val for val in neighbor_values if not pd.isnull(val)]\n",
    "\n",
    "                    if pd.api.types.is_numeric_dtype(df_filled[col]):\n",
    "                        df_filled.at[i, col] = np.mean(neighbor_values)\n",
    "                    else:\n",
    "                        df_filled.at[i, col] = Counter(neighbor_values).most_common(1)[0][0]\n",
    "\n",
    "    return df_filled"
   ],
   "id": "6b3a3c57551cac81",
   "outputs": [],
   "execution_count": 104
  },
  {
   "metadata": {
    "ExecuteTime": {
     "end_time": "2025-03-21T07:19:24.709456Z",
     "start_time": "2025-03-21T07:19:01.790569Z"
    }
   },
   "cell_type": "code",
   "source": "data_knn = fill_knn(data)",
   "id": "ba290d3023035d44",
   "outputs": [],
   "execution_count": 105
  },
  {
   "metadata": {
    "ExecuteTime": {
     "end_time": "2025-03-21T07:19:24.734354Z",
     "start_time": "2025-03-21T07:19:24.726551Z"
    }
   },
   "cell_type": "code",
   "source": "data_knn.isna().sum()",
   "id": "4f9b5915a836d999",
   "outputs": [
    {
     "data": {
      "text/plain": [
       "Make                  0\n",
       "Model                 0\n",
       "Price                 0\n",
       "Year                  0\n",
       "Kilometer             0\n",
       "Fuel Type             0\n",
       "Transmission          0\n",
       "Location              0\n",
       "Color                 0\n",
       "Owner                 0\n",
       "Seller Type           0\n",
       "Engine                0\n",
       "Drivetrain            0\n",
       "Length                0\n",
       "Width                 0\n",
       "Height                0\n",
       "Seating Capacity      0\n",
       "Fuel Tank Capacity    0\n",
       "Max Power BHP         0\n",
       "Max Power RPM         0\n",
       "Max Torque Nm         0\n",
       "Max Torque RPM        0\n",
       "dtype: int64"
      ]
     },
     "execution_count": 106,
     "metadata": {},
     "output_type": "execute_result"
    }
   ],
   "execution_count": 106
  },
  {
   "metadata": {
    "ExecuteTime": {
     "end_time": "2025-03-21T07:19:24.841706Z",
     "start_time": "2025-03-21T07:19:24.820960Z"
    }
   },
   "cell_type": "code",
   "source": [
    "data_knn = drop_na(data_knn)\n",
    "data_knn.to_csv(path + 'train_knn.csv', index=False)"
   ],
   "id": "9f0fbfa5b097ed30",
   "outputs": [],
   "execution_count": 107
  },
  {
   "metadata": {},
   "cell_type": "markdown",
   "source": "### 2.5 Interpolation",
   "id": "20b634716041f323"
  },
  {
   "metadata": {
    "ExecuteTime": {
     "end_time": "2025-03-21T07:19:24.912822Z",
     "start_time": "2025-03-21T07:19:24.899289Z"
    }
   },
   "cell_type": "code",
   "source": [
    "inferred_data = data.infer_objects(copy=False)\n",
    "\n",
    "data_interpolate_lin = inferred_data.interpolate(method='linear', limit_direction='both')\n",
    "data_interpolate_lin.isna().sum()"
   ],
   "id": "10363a1831203e1c",
   "outputs": [
    {
     "name": "stderr",
     "output_type": "stream",
     "text": [
      "C:\\Users\\phine\\AppData\\Local\\Temp\\ipykernel_5728\\80612481.py:3: FutureWarning: DataFrame.interpolate with object dtype is deprecated and will raise in a future version. Call obj.infer_objects(copy=False) before interpolating instead.\n",
      "  data_interpolate_lin = inferred_data.interpolate(method='linear', limit_direction='both')\n"
     ]
    },
    {
     "data": {
      "text/plain": [
       "Make                    0\n",
       "Model                   0\n",
       "Price                   0\n",
       "Year                    0\n",
       "Kilometer               0\n",
       "Fuel Type               0\n",
       "Transmission            0\n",
       "Location                0\n",
       "Color                   0\n",
       "Owner                   0\n",
       "Seller Type             0\n",
       "Engine                  0\n",
       "Drivetrain            111\n",
       "Length                  0\n",
       "Width                   0\n",
       "Height                  0\n",
       "Seating Capacity        0\n",
       "Fuel Tank Capacity      0\n",
       "Max Power BHP           0\n",
       "Max Power RPM           0\n",
       "Max Torque Nm           0\n",
       "Max Torque RPM          0\n",
       "dtype: int64"
      ]
     },
     "execution_count": 108,
     "metadata": {},
     "output_type": "execute_result"
    }
   ],
   "execution_count": 108
  },
  {
   "metadata": {
    "ExecuteTime": {
     "end_time": "2025-03-21T07:19:25.093551Z",
     "start_time": "2025-03-21T07:19:25.073465Z"
    }
   },
   "cell_type": "code",
   "source": [
    "inferred_data = data.infer_objects(copy=False)\n",
    "\n",
    "data_interpolate_pol = inferred_data.interpolate(method='polynomial', order=2)\n",
    "data_interpolate_pol.isna().sum()"
   ],
   "id": "12b795112621d6e0",
   "outputs": [
    {
     "name": "stderr",
     "output_type": "stream",
     "text": [
      "C:\\Users\\phine\\AppData\\Local\\Temp\\ipykernel_5728\\3354355801.py:3: FutureWarning: DataFrame.interpolate with object dtype is deprecated and will raise in a future version. Call obj.infer_objects(copy=False) before interpolating instead.\n",
      "  data_interpolate_pol = inferred_data.interpolate(method='polynomial', order=2)\n"
     ]
    },
    {
     "data": {
      "text/plain": [
       "Make                    0\n",
       "Model                   0\n",
       "Price                   0\n",
       "Year                    0\n",
       "Kilometer               0\n",
       "Fuel Type               0\n",
       "Transmission            0\n",
       "Location                0\n",
       "Color                   0\n",
       "Owner                   0\n",
       "Seller Type             0\n",
       "Engine                  1\n",
       "Drivetrain            111\n",
       "Length                  1\n",
       "Width                   1\n",
       "Height                  1\n",
       "Seating Capacity        1\n",
       "Fuel Tank Capacity      1\n",
       "Max Power BHP           1\n",
       "Max Power RPM           1\n",
       "Max Torque Nm           1\n",
       "Max Torque RPM          1\n",
       "dtype: int64"
      ]
     },
     "execution_count": 109,
     "metadata": {},
     "output_type": "execute_result"
    }
   ],
   "execution_count": 109
  },
  {
   "metadata": {
    "ExecuteTime": {
     "end_time": "2025-03-21T07:19:25.264049Z",
     "start_time": "2025-03-21T07:19:25.247119Z"
    }
   },
   "cell_type": "code",
   "source": [
    "inferred_data = data.infer_objects(copy=False)\n",
    "\n",
    "data_interpolate_pad = inferred_data.interpolate(method='pad', limit=2)\n",
    "data_interpolate_pad.isna().sum()"
   ],
   "id": "911970ae24c5ec1c",
   "outputs": [
    {
     "name": "stderr",
     "output_type": "stream",
     "text": [
      "C:\\Users\\phine\\AppData\\Local\\Temp\\ipykernel_5728\\1035036417.py:3: FutureWarning: DataFrame.interpolate with method=pad is deprecated and will raise in a future version. Use obj.ffill() or obj.bfill() instead.\n",
      "  data_interpolate_pad = inferred_data.interpolate(method='pad', limit=2)\n"
     ]
    },
    {
     "data": {
      "text/plain": [
       "Make                  0\n",
       "Model                 0\n",
       "Price                 0\n",
       "Year                  0\n",
       "Kilometer             0\n",
       "Fuel Type             0\n",
       "Transmission          0\n",
       "Location              0\n",
       "Color                 0\n",
       "Owner                 0\n",
       "Seller Type           0\n",
       "Engine                1\n",
       "Drivetrain            1\n",
       "Length                1\n",
       "Width                 1\n",
       "Height                1\n",
       "Seating Capacity      1\n",
       "Fuel Tank Capacity    1\n",
       "Max Power BHP         1\n",
       "Max Power RPM         1\n",
       "Max Torque Nm         1\n",
       "Max Torque RPM        1\n",
       "dtype: int64"
      ]
     },
     "execution_count": 110,
     "metadata": {},
     "output_type": "execute_result"
    }
   ],
   "execution_count": 110
  },
  {
   "metadata": {
    "ExecuteTime": {
     "end_time": "2025-03-21T07:19:25.546403Z",
     "start_time": "2025-03-21T07:19:25.494211Z"
    }
   },
   "cell_type": "code",
   "source": [
    "data_interpolate_lin = drop_na(data_interpolate_lin)\n",
    "data_interpolate_lin.to_csv(path + 'train_interpolate_lin.csv', index=False)\n",
    "\n",
    "data_interpolate_pol = drop_na(data_interpolate_pol)\n",
    "data_interpolate_pol.to_csv(path + 'train_interpolate_pol.csv', index=False)\n",
    "\n",
    "data_interpolate_pad = drop_na(data_interpolate_pad)\n",
    "data_interpolate_pad.to_csv(path + 'train_interpolate_pad.csv', index=False)"
   ],
   "id": "e07da0beff630f25",
   "outputs": [],
   "execution_count": 111
  },
  {
   "metadata": {},
   "cell_type": "markdown",
   "source": "## 3. Normalizing",
   "id": "d7a41c738081d49e"
  },
  {
   "metadata": {},
   "cell_type": "markdown",
   "source": [
    "### 1. Min-max scaling\n",
    "When to Use: Good for models requiring bounded inputs (e.g., neural networks), but less ideal if Price has extreme outliers.\n",
    "\n",
    "### 2. Log Transformation\n",
    "When to Use: Ideal for skewed data. Train the model on ```Price_log```, then exponentiate predictions ```(np.exp(predictions) - 1)``` to return to the original scale.\n",
    "\n",
    "### 3. Standardization (Z-score Normalization)\n",
    "When to Use: Suitable for most machine learning models (e.g., linear regression, SVM, neural networks) and robust to moderate outliers.\n",
    "\n",
    "### 4. Robust Scaling\n",
    "When to Use: Best when Price has significant outliers that you don’t want to remove but need to mitigate."
   ],
   "id": "3c66fc3746ccca3d"
  },
  {
   "metadata": {
    "ExecuteTime": {
     "end_time": "2025-03-21T07:19:25.775100Z",
     "start_time": "2025-03-21T07:19:25.766084Z"
    }
   },
   "cell_type": "code",
   "source": [
    "def log_norm(df: pd.DataFrame, columns=None):\n",
    "    new_df = df.copy()\n",
    "    if columns is None:\n",
    "        columns = df.columns\n",
    "    for col in columns:\n",
    "        if is_numeric_dtype(new_df[col]):\n",
    "            new_df[col] = np.log(new_df[col] + 1)\n",
    "    return new_df\n",
    "\n",
    "def minmax_norm(df: pd.DataFrame, columns=None):\n",
    "    new_df = df.copy()\n",
    "    if columns is None:\n",
    "        columns = df.columns\n",
    "    for col in columns:\n",
    "        if is_numeric_dtype(new_df[col]):\n",
    "            new_df[col] = (new_df[col] - new_df[col].min()) / (new_df[col].max() - new_df[col].min())\n",
    "\n",
    "    return new_df\n",
    "\n",
    "def standard_norm(df: pd.DataFrame, columns=None):\n",
    "    new_df = df.copy()\n",
    "    if columns is None:\n",
    "        columns = df.columns\n",
    "    for col in columns:\n",
    "        if is_numeric_dtype(new_df[col]):\n",
    "            new_df[col] = (new_df[col] - new_df[col].mean()) / new_df[col].std()\n",
    "    return new_df\n",
    "\n",
    "def robust_norm(df: pd.DataFrame, columns=None, focus=0.5):\n",
    "    new_df = df.copy()\n",
    "    if columns is None:\n",
    "        columns = df.columns\n",
    "    for col in columns:\n",
    "        if is_numeric_dtype(new_df[col]):\n",
    "            new_df[col] = (new_df[col] - new_df[col].median()) / (new_df[col].quantile(1 - focus/2) - new_df[col].quantile(focus/2))\n",
    "    return new_df"
   ],
   "id": "702a223a2b06254b",
   "outputs": [],
   "execution_count": 112
  },
  {
   "metadata": {
    "ExecuteTime": {
     "end_time": "2025-03-21T07:19:25.980445Z",
     "start_time": "2025-03-21T07:19:25.977026Z"
    }
   },
   "cell_type": "code",
   "source": [
    "log_column = ['Price', 'Kilometer']\n",
    "minmax_column = ['Year', 'Seating Capacity']\n",
    "standard_column = ['Engine']"
   ],
   "id": "474b90987baa3bc1",
   "outputs": [],
   "execution_count": 113
  },
  {
   "metadata": {
    "ExecuteTime": {
     "end_time": "2025-03-21T07:19:26.078981Z",
     "start_time": "2025-03-21T07:19:26.071390Z"
    }
   },
   "cell_type": "code",
   "source": [
    "data_mean = log_norm(data_mean, columns=log_column)\n",
    "data_mean = minmax_norm(data_mean, columns=minmax_column)\n",
    "data_mean = standard_norm(data_mean, columns=standard_column)"
   ],
   "id": "f0cba6c5835b4467",
   "outputs": [],
   "execution_count": 114
  },
  {
   "metadata": {
    "ExecuteTime": {
     "end_time": "2025-03-21T07:19:26.114790Z",
     "start_time": "2025-03-21T07:19:26.092521Z"
    }
   },
   "cell_type": "code",
   "source": "data_mean.head()",
   "id": "32cb0ade28a6437f",
   "outputs": [
    {
     "data": {
      "text/plain": [
       "            Make                                     Model      Price  \\\n",
       "1            BMW                        X1 sDrive20d xLine  14.603514   \n",
       "2       Mahindra                            XUV500 W4 1.99  13.592368   \n",
       "3  Mercedes-Benz                           GLS 400d 4MATIC  16.372738   \n",
       "4         Toyota           Fortuner 2.8 4x2 AT [2016-2020]  15.067988   \n",
       "5  Maruti Suzuki  Vitara Brezza ZDi+ Dual Tone [2017-2018]  13.369225   \n",
       "\n",
       "       Year  Kilometer Fuel Type Transmission     Location   Color   Owner  \\\n",
       "1  0.823529  11.251574    Diesel    Automatic        Surat   Black   First   \n",
       "2  0.852941  11.626263    Diesel       Manual  Muzaffurpur  Silver   First   \n",
       "3  0.970588   8.006701    Diesel    Automatic        Delhi   White   First   \n",
       "4  0.911765  11.198228    Diesel    Automatic       Mumbai   White   First   \n",
       "5  0.823529  10.859018    Diesel       Manual        Delhi    Blue  Second   \n",
       "\n",
       "   ... Drivetrain  Length   Width  Height  Seating Capacity  \\\n",
       "1  ...        RWD  4454.0  2044.0  1545.0          0.500000   \n",
       "2  ...        FWD  4585.0  1890.0  1785.0          0.833333   \n",
       "3  ...        AWD  5207.0  2157.0  1823.0          0.833333   \n",
       "4  ...        RWD  4795.0  1855.0  1835.0          0.833333   \n",
       "5  ...        FWD  3995.0  1790.0  1640.0          0.500000   \n",
       "\n",
       "   Fuel Tank Capacity  Max Power BHP  Max Power RPM  Max Torque Nm  \\\n",
       "1                63.0          184.0         4000.0          350.0   \n",
       "2                70.0          138.0         3750.0          320.0   \n",
       "3                90.0          326.0         3600.0          700.0   \n",
       "4                80.0          174.0         3400.0          450.0   \n",
       "5                48.0           89.0         4000.0          200.0   \n",
       "\n",
       "   Max Torque RPM  \n",
       "1          1750.0  \n",
       "2          1600.0  \n",
       "3          1200.0  \n",
       "4          1600.0  \n",
       "5          1750.0  \n",
       "\n",
       "[5 rows x 22 columns]"
      ],
      "text/html": [
       "<div>\n",
       "<style scoped>\n",
       "    .dataframe tbody tr th:only-of-type {\n",
       "        vertical-align: middle;\n",
       "    }\n",
       "\n",
       "    .dataframe tbody tr th {\n",
       "        vertical-align: top;\n",
       "    }\n",
       "\n",
       "    .dataframe thead th {\n",
       "        text-align: right;\n",
       "    }\n",
       "</style>\n",
       "<table border=\"1\" class=\"dataframe\">\n",
       "  <thead>\n",
       "    <tr style=\"text-align: right;\">\n",
       "      <th></th>\n",
       "      <th>Make</th>\n",
       "      <th>Model</th>\n",
       "      <th>Price</th>\n",
       "      <th>Year</th>\n",
       "      <th>Kilometer</th>\n",
       "      <th>Fuel Type</th>\n",
       "      <th>Transmission</th>\n",
       "      <th>Location</th>\n",
       "      <th>Color</th>\n",
       "      <th>Owner</th>\n",
       "      <th>...</th>\n",
       "      <th>Drivetrain</th>\n",
       "      <th>Length</th>\n",
       "      <th>Width</th>\n",
       "      <th>Height</th>\n",
       "      <th>Seating Capacity</th>\n",
       "      <th>Fuel Tank Capacity</th>\n",
       "      <th>Max Power BHP</th>\n",
       "      <th>Max Power RPM</th>\n",
       "      <th>Max Torque Nm</th>\n",
       "      <th>Max Torque RPM</th>\n",
       "    </tr>\n",
       "  </thead>\n",
       "  <tbody>\n",
       "    <tr>\n",
       "      <th>1</th>\n",
       "      <td>BMW</td>\n",
       "      <td>X1 sDrive20d xLine</td>\n",
       "      <td>14.603514</td>\n",
       "      <td>0.823529</td>\n",
       "      <td>11.251574</td>\n",
       "      <td>Diesel</td>\n",
       "      <td>Automatic</td>\n",
       "      <td>Surat</td>\n",
       "      <td>Black</td>\n",
       "      <td>First</td>\n",
       "      <td>...</td>\n",
       "      <td>RWD</td>\n",
       "      <td>4454.0</td>\n",
       "      <td>2044.0</td>\n",
       "      <td>1545.0</td>\n",
       "      <td>0.500000</td>\n",
       "      <td>63.0</td>\n",
       "      <td>184.0</td>\n",
       "      <td>4000.0</td>\n",
       "      <td>350.0</td>\n",
       "      <td>1750.0</td>\n",
       "    </tr>\n",
       "    <tr>\n",
       "      <th>2</th>\n",
       "      <td>Mahindra</td>\n",
       "      <td>XUV500 W4 1.99</td>\n",
       "      <td>13.592368</td>\n",
       "      <td>0.852941</td>\n",
       "      <td>11.626263</td>\n",
       "      <td>Diesel</td>\n",
       "      <td>Manual</td>\n",
       "      <td>Muzaffurpur</td>\n",
       "      <td>Silver</td>\n",
       "      <td>First</td>\n",
       "      <td>...</td>\n",
       "      <td>FWD</td>\n",
       "      <td>4585.0</td>\n",
       "      <td>1890.0</td>\n",
       "      <td>1785.0</td>\n",
       "      <td>0.833333</td>\n",
       "      <td>70.0</td>\n",
       "      <td>138.0</td>\n",
       "      <td>3750.0</td>\n",
       "      <td>320.0</td>\n",
       "      <td>1600.0</td>\n",
       "    </tr>\n",
       "    <tr>\n",
       "      <th>3</th>\n",
       "      <td>Mercedes-Benz</td>\n",
       "      <td>GLS 400d 4MATIC</td>\n",
       "      <td>16.372738</td>\n",
       "      <td>0.970588</td>\n",
       "      <td>8.006701</td>\n",
       "      <td>Diesel</td>\n",
       "      <td>Automatic</td>\n",
       "      <td>Delhi</td>\n",
       "      <td>White</td>\n",
       "      <td>First</td>\n",
       "      <td>...</td>\n",
       "      <td>AWD</td>\n",
       "      <td>5207.0</td>\n",
       "      <td>2157.0</td>\n",
       "      <td>1823.0</td>\n",
       "      <td>0.833333</td>\n",
       "      <td>90.0</td>\n",
       "      <td>326.0</td>\n",
       "      <td>3600.0</td>\n",
       "      <td>700.0</td>\n",
       "      <td>1200.0</td>\n",
       "    </tr>\n",
       "    <tr>\n",
       "      <th>4</th>\n",
       "      <td>Toyota</td>\n",
       "      <td>Fortuner 2.8 4x2 AT [2016-2020]</td>\n",
       "      <td>15.067988</td>\n",
       "      <td>0.911765</td>\n",
       "      <td>11.198228</td>\n",
       "      <td>Diesel</td>\n",
       "      <td>Automatic</td>\n",
       "      <td>Mumbai</td>\n",
       "      <td>White</td>\n",
       "      <td>First</td>\n",
       "      <td>...</td>\n",
       "      <td>RWD</td>\n",
       "      <td>4795.0</td>\n",
       "      <td>1855.0</td>\n",
       "      <td>1835.0</td>\n",
       "      <td>0.833333</td>\n",
       "      <td>80.0</td>\n",
       "      <td>174.0</td>\n",
       "      <td>3400.0</td>\n",
       "      <td>450.0</td>\n",
       "      <td>1600.0</td>\n",
       "    </tr>\n",
       "    <tr>\n",
       "      <th>5</th>\n",
       "      <td>Maruti Suzuki</td>\n",
       "      <td>Vitara Brezza ZDi+ Dual Tone [2017-2018]</td>\n",
       "      <td>13.369225</td>\n",
       "      <td>0.823529</td>\n",
       "      <td>10.859018</td>\n",
       "      <td>Diesel</td>\n",
       "      <td>Manual</td>\n",
       "      <td>Delhi</td>\n",
       "      <td>Blue</td>\n",
       "      <td>Second</td>\n",
       "      <td>...</td>\n",
       "      <td>FWD</td>\n",
       "      <td>3995.0</td>\n",
       "      <td>1790.0</td>\n",
       "      <td>1640.0</td>\n",
       "      <td>0.500000</td>\n",
       "      <td>48.0</td>\n",
       "      <td>89.0</td>\n",
       "      <td>4000.0</td>\n",
       "      <td>200.0</td>\n",
       "      <td>1750.0</td>\n",
       "    </tr>\n",
       "  </tbody>\n",
       "</table>\n",
       "<p>5 rows × 22 columns</p>\n",
       "</div>"
      ]
     },
     "execution_count": 115,
     "metadata": {},
     "output_type": "execute_result"
    }
   ],
   "execution_count": 115
  },
  {
   "metadata": {
    "ExecuteTime": {
     "end_time": "2025-03-21T07:19:26.269641Z",
     "start_time": "2025-03-21T07:19:26.244331Z"
    }
   },
   "cell_type": "code",
   "source": "data_mean.to_csv(path + 'train_mean.csv', index=False)",
   "id": "c129912d60cd00da",
   "outputs": [],
   "execution_count": 116
  }
 ],
 "metadata": {
  "kernelspec": {
   "display_name": "Python 3",
   "language": "python",
   "name": "python3"
  },
  "language_info": {
   "codemirror_mode": {
    "name": "ipython",
    "version": 3
   },
   "file_extension": ".py",
   "mimetype": "text/x-python",
   "name": "python",
   "nbconvert_exporter": "python",
   "pygments_lexer": "ipython3",
   "version": "3.12.9"
  }
 },
 "nbformat": 4,
 "nbformat_minor": 5
}
