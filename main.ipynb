{
 "cells": [
  {
   "cell_type": "markdown",
   "metadata": {},
   "source": [
    "# Dự đoán giá xe cũ sử dụng mô hình hồi quy tuyến tính"
   ]
  },
  {
   "cell_type": "markdown",
   "metadata": {},
   "source": [
    "## Vấn đề:\n",
    "Trong bài lab này, chúng ta sẽ xây dựng mô hình dự đoán giá xe hơi cũ dựa trên các đặc điểm của xe như năm sản xuất, số km đã đi, thông số động cơ, v.v."
   ]
  },
  {
   "cell_type": "markdown",
   "metadata": {},
   "source": [
    "## Mục tiêu:\n",
    "- Phân tích các yếu tố ảnh hưởng đến giá bán của xe hơi cũ\n",
    "- Xây dựng các mô hình hồi quy khác nhau để dự đoán giá xe\n",
    "- So sánh hiệu suất của các mô hình để chọn ra mô hình tốt nhất"
   ]
  },
  {
   "cell_type": "markdown",
   "metadata": {},
   "source": [
    "## Cách tiếp cận:\n",
    "1. Đọc và tìm hiểu dữ liệu\n",
    "2. Tiền xử lý dữ liệu\n",
    "3. Phân tích dữ liệu và lựa chọn đặc trưng\n",
    "4. Xây dựng các mô hình hồi quy tuyến tính\n",
    "5. Đánh giá và so sánh các mô hình\n",
    "6. Dự đoán trên dữ liệu kiểm tra"
   ]
  },
  {
   "cell_type": "markdown",
   "metadata": {},
   "source": [
    "## Cài đặt thư viện cần thiết"
   ]
  },
  {
   "cell_type": "code",
   "execution_count": null,
   "metadata": {},
   "outputs": [],
   "source": [
    "%pip install numpy\n",
    "%pip install pandas\n",
    "%pip install matplotlib\n",
    "%pip install seaborn\n",
    "%pip install scipy\n",
    "%pip install scikit-learn"
   ]
  },
  {
   "cell_type": "markdown",
   "metadata": {},
   "source": [
    "## I. Đọc dữ liệu"
   ]
  },
  {
   "cell_type": "code",
   "execution_count": null,
   "metadata": {},
   "outputs": [],
   "source": [
    "from preprocessor.sklearn_preprocessor import preprocess_data\n",
    "from featureEngineering.Visualizer import Visualizer\n",
    "from featureEngineering.FeatureSelection import FeatureSelection\n",
    "\n",
    "import pandas as pd\n",
    "import numpy as np"
   ]
  },
  {
   "cell_type": "code",
   "execution_count": null,
   "metadata": {},
   "outputs": [],
   "source": [
    "path = './data/'\n",
    "data = pd.read_csv(path + 'train.csv')"
   ]
  },
  {
   "cell_type": "code",
   "execution_count": null,
   "metadata": {},
   "outputs": [],
   "source": [
    "print(f'Số lượng dòng của data: {len(data)}')\n",
    "print(data.columns)"
   ]
  },
  {
   "cell_type": "code",
   "execution_count": null,
   "metadata": {},
   "outputs": [],
   "source": [
    "data.head()"
   ]
  },
  {
   "cell_type": "markdown",
   "metadata": {},
   "source": [
    "#### Insights:\n",
    "- Tập dữ liệu gồm 1647 mẫu với 20 đặc trưng (features)\n",
    "- Các đặc trưng bao gồm thông tin về nhãn hiệu (Make), mẫu xe (Model), giá (Price), năm sản xuất (Year), số km đã đi (Kilometer), v.v.\n",
    "- Có một số giá trị NaN trong dữ liệu, đặc biệt là trong các trường thông số kỹ thuật (Engine, Max Power, Max Torque)"
   ]
  },
  {
   "cell_type": "markdown",
   "metadata": {},
   "source": [
    "## II. Tiền xử lý dữ liệu"
   ]
  },
  {
   "cell_type": "markdown",
   "metadata": {},
   "source": [
    "### 1. Làm sạch dữ liệu"
   ]
  },
  {
   "cell_type": "code",
   "execution_count": null,
   "metadata": {},
   "outputs": [],
   "source": [
    "def clean_data(data):\n",
    "    data[\"Engine\"] = data[\"Engine\"].str.replace(\n",
    "        ' cc', '', regex=False).astype(float)\n",
    "\n",
    "    data[['Max Power BHP', 'Max Power RPM']] = data['Max Power'].str.extract(\n",
    "        r'(\\d+)\\s*bhp\\s*@\\s*(\\d+)\\s*rpm')\n",
    "    data['Max Power BHP'] = pd.to_numeric(\n",
    "        data['Max Power BHP'], errors='coerce')\n",
    "    data['Max Power RPM'] = pd.to_numeric(\n",
    "        data['Max Power RPM'], errors='coerce')\n",
    "\n",
    "    data[['Max Torque Nm', 'Max Torque RPM']] = data['Max Torque'].str.extract(\n",
    "        r'(\\d+)\\s*Nm\\s*@\\s*(\\d+)\\s*rpm')\n",
    "    data['Max Torque Nm'] = pd.to_numeric(\n",
    "        data['Max Torque Nm'], errors='coerce')\n",
    "    data['Max Torque RPM'] = pd.to_numeric(\n",
    "        data['Max Torque RPM'], errors='coerce')\n",
    "\n",
    "    rare_fuel_types = ['Electric', 'LPG',\n",
    "                       'Hybrid', 'CNG + CNG', 'Petrol + LPG']\n",
    "    data[\"Fuel Type\"] = data[\"Fuel Type\"].apply(\n",
    "        lambda x: 'Others' if x in rare_fuel_types else x)\n",
    "\n",
    "    drop_columns = ['Make', 'Model', 'Location',\n",
    "                    'Color', 'Max Power', 'Max Torque']\n",
    "    data.drop(drop_columns, axis=1, inplace=True)\n",
    "\n",
    "    return data"
   ]
  },
  {
   "cell_type": "code",
   "execution_count": null,
   "metadata": {},
   "outputs": [],
   "source": [
    "data = clean_data(data)"
   ]
  },
  {
   "cell_type": "markdown",
   "metadata": {},
   "source": [
    "#### Insights:\n",
    "- Chuyển đổi các giá trị từ dạng text sang dạng số học:\n",
    "  - Engine: Loại bỏ \"cc\" và chuyển thành kiểu float\n",
    "  - Max Power: Tách thành công suất (BHP) và vòng tua (RPM)\n",
    "  - Max Torque: Tách thành mô-men xoắn (Nm) và vòng tua (RPM)\n",
    "- Nhóm các loại nhiên liệu hiếm vào một nhóm 'Others'\n",
    "- Loại bỏ các cột ít liên quan hoặc có quá nhiều giá trị khác nhau như Make, Model, Location, Color"
   ]
  },
  {
   "cell_type": "markdown",
   "metadata": {},
   "source": [
    "### 2. Phân chia và tiền xử lý dữ liệu"
   ]
  },
  {
   "cell_type": "code",
   "execution_count": null,
   "metadata": {},
   "outputs": [],
   "source": [
    "train_df, test_df, preprocessor, feature_names = preprocess_data(\n",
    "    data=data,\n",
    "    save_path='./processed_data/',\n",
    "    train_ratio=0.7,\n",
    "    test_ratio=0.3,\n",
    ")"
   ]
  },
  {
   "cell_type": "code",
   "execution_count": null,
   "metadata": {},
   "outputs": [],
   "source": [
    "# Check if there are any columns with object type in the transformed dataframes\n",
    "print(\"Train DataFrame Object Types:\", train_df.select_dtypes(\n",
    "    include=['object']).columns.tolist())\n",
    "print(\"Test DataFrame Object Types:\", test_df.select_dtypes(\n",
    "    include=['object']).columns.tolist())\n",
    "\n",
    "# If there are object columns, convert them to numeric\n",
    "for df in [train_df, test_df]:\n",
    "    for col in df.columns:\n",
    "        if df[col].dtype == 'object':\n",
    "            df[col] = pd.to_numeric(df[col])\n",
    "\n",
    "# Verify the conversion worked\n",
    "print(\"\\nAfter conversion:\")\n",
    "print(\"Train DataFrame Types:\", train_df.dtypes.value_counts())\n",
    "print(\"Test DataFrame Types:\", test_df.dtypes.value_counts())"
   ]
  },
  {
   "cell_type": "markdown",
   "metadata": {},
   "source": [
    "#### Insights:\n",
    "- Dữ liệu được chia thành tập huấn luyện (70%) và tập kiểm tra (30%)\n",
    "- Tất cả các cột đã được chuyển đổi sang kiểu số học (float64)\n",
    "- Các biến phân loại (categorical) đã được mã hóa one-hot"
   ]
  },
  {
   "cell_type": "markdown",
   "metadata": {},
   "source": [
    "## III. Mô hình hóa"
   ]
  },
  {
   "cell_type": "markdown",
   "metadata": {},
   "source": [
    "### 1. Chọn các cột đặc trưng"
   ]
  },
  {
   "cell_type": "markdown",
   "metadata": {},
   "source": [
    "#### Phân tích tương quan"
   ]
  },
  {
   "cell_type": "code",
   "execution_count": null,
   "metadata": {},
   "outputs": [],
   "source": [
    "Visualizer.correlation_heatmap(train_df, min_correlation=0.3, target='Price')"
   ]
  },
  {
   "cell_type": "code",
   "execution_count": null,
   "metadata": {},
   "outputs": [],
   "source": [
    "from modelling.Model import StandardRegression, PolynomialRegression\n",
    "\n",
    "oneHotCols = ['Drivetrain', 'Fuel Type', 'Seller Type', 'Transmission']\n",
    "model_type = StandardRegression\n",
    "model = model_type()\n",
    "\n",
    "train = model.transform_features(train_df)\n",
    "test = model.transform_features(test_df)\n",
    "corr = train.corr()\n",
    "sort_order = corr['Price'].abs().sort_values(ascending=False).index\n",
    "sorted_corr = corr.loc[sort_order, sort_order]\n",
    "subcols = sorted_corr.index.tolist()\n",
    "\n",
    "# Chọn thử 14 cột có abs correlation >= 0.3 sau khi visualize\n",
    "subcols = subcols[:9]\n",
    "subtract = ['Price']\n",
    "subcols = list(set(subcols) - set(subtract))\n",
    "add = []\n",
    "subcols = subcols + add\n",
    "subcols"
   ]
  },
  {
   "cell_type": "markdown",
   "metadata": {},
   "source": [
    "#### Insights:\n",
    "- Từ biểu đồ nhiệt tương quan (correlation heatmap), chúng ta có thể thấy các đặc trưng có mối tương quan mạnh với giá xe (Price)\n",
    "- Các đặc trưng được chọn dựa trên tương quan cao với biến mục tiêu (có độ lớn tương quan ≥ 0.3)\n",
    "- Danh sách các đặc trưng quan trọng bao gồm: dung tích bình nhiên liệu, loại hộp số, hệ dẫn động, chiều rộng, dung tích động cơ, chiều dài, và công suất động cơ"
   ]
  },
  {
   "cell_type": "code",
   "execution_count": null,
   "metadata": {},
   "outputs": [],
   "source": [
    "from sklearn.metrics import mean_squared_error, r2_score, mean_absolute_error\n",
    "\n",
    "\n",
    "def model_testing(subcols=None, linear=True, deg=2, auto_selection=True,\n",
    "                  model_type=None, plot=True):\n",
    "    if subcols is None:\n",
    "        subcols = train_df.drop('Price', axis=1).columns.to_list()\n",
    "\n",
    "    if linear:\n",
    "        model = StandardRegression()\n",
    "    else:\n",
    "        model = model_type(degree=deg)\n",
    "\n",
    "    train = model.transform_features(train_df.drop('Price', axis=1))\n",
    "    test = model.transform_features(test_df.drop('Price', axis=1))\n",
    "    train['Price'] = train_df['Price']\n",
    "    test['Price'] = test_df['Price']\n",
    "\n",
    "    # Forward selection\n",
    "    if auto_selection:\n",
    "        subcols, r2 = FeatureSelection.backward_elimination_mae(\n",
    "            train[subcols + ['Price']],\n",
    "            oneHotCols=oneHotCols,\n",
    "            target='Price',\n",
    "            model=model,\n",
    "        )\n",
    "        if plot:\n",
    "            print('Best:', r2)\n",
    "            print('Eliminated columns:', set(\n",
    "                train.columns.to_list()) - set(subcols))\n",
    "\n",
    "    print('Chosed columns: ', subcols)\n",
    "    print('Total columns: ', len(subcols))\n",
    "    if (plot):\n",
    "        model.fit(train[subcols], train['Price'])\n",
    "        y_train = train['Price']\n",
    "        y_test = test['Price']\n",
    "        y_train_pred = model.predict(train[subcols])\n",
    "        y_test_pred = model.predict(test[subcols])\n",
    "\n",
    "        # Evaluate after selecting features\n",
    "        print('Train r^2: ', r2_score(y_train, y_train_pred))\n",
    "        print('Train MAE: ',\n",
    "              f\"{mean_absolute_error(y_train, y_train_pred):.3e}\")\n",
    "        print('Train MSE: ',\n",
    "              f\"{mean_squared_error(y_train, y_train_pred):.3e}\")\n",
    "        print('Train RMSE: ',\n",
    "              f\"{np.sqrt(mean_squared_error(y_train, y_train_pred)):.3e}\")\n",
    "\n",
    "        print('Test r^2: ', r2_score(y_test, y_test_pred))\n",
    "        print('Test MAE: ', f\"{mean_absolute_error(y_test, y_test_pred):.3e}\")\n",
    "        print('Test MSE: ', f\"{mean_squared_error(y_test, y_test_pred):.3e}\")\n",
    "        print('Test RMSE: ',\n",
    "              f\"{np.sqrt(mean_squared_error(y_test, y_test_pred)):.3e}\")\n",
    "\n",
    "        # diagnostic plots\n",
    "        Visualizer.result_plots(y_train, y_train_pred, y_test, y_test_pred)\n",
    "    return subcols"
   ]
  },
  {
   "cell_type": "markdown",
   "metadata": {},
   "source": [
    "### 2. So sánh các mô hình"
   ]
  },
  {
   "cell_type": "markdown",
   "metadata": {},
   "source": [
    "#### Hồi quy tuyến tính (sử dụng tất cả đặc trưng)"
   ]
  },
  {
   "cell_type": "markdown",
   "metadata": {},
   "source": [
    "$$y =  \\beta_0 + \\sum \\beta_j * x_j$$"
   ]
  },
  {
   "cell_type": "code",
   "execution_count": null,
   "metadata": {},
   "outputs": [],
   "source": [
    "model_testing(auto_selection=False);"
   ]
  },
  {
   "cell_type": "markdown",
   "metadata": {},
   "source": [
    "#### Insights:\n",
    "- Mô hình sử dụng tất cả 21 đặc trưng\n",
    "- R² cho tập huấn luyện: 0.825, tập kiểm tra: 0.893\n",
    "- RMSE cho tập huấn luyện: 1.058e+06, tập kiểm tra: 6.470e+05\n",
    "- Mô hình có khả năng dự đoán tốt trên cả tập huấn luyện và kiểm tra"
   ]
  },
  {
   "cell_type": "markdown",
   "metadata": {},
   "source": [
    "#### Hồi quy tuyến tính (chỉ với các đặc trưng có |tương quan| > 0.3)\n"
   ]
  },
  {
   "cell_type": "markdown",
   "metadata": {},
   "source": [
    "$$y =  \\beta_0 + \\sum_{j=1}^{8} \\beta_j * x_j\\\\ \\overline{1..8} \\text{ is the subset of chosed columns} $$"
   ]
  },
  {
   "cell_type": "code",
   "execution_count": null,
   "metadata": {},
   "outputs": [],
   "source": [
    "model_testing(subcols=subcols, linear=True, auto_selection=False);"
   ]
  },
  {
   "cell_type": "markdown",
   "metadata": {},
   "source": [
    "#### Insights:\n",
    "- Mô hình này chỉ sử dụng 7 đặc trưng: Fuel Tank Capacity, Transmission_Manual, Drivetrain_FWD, Width, Engine, Length, Max Power BHP\n",
    "- R² cho tập huấn luyện: 0.667, tập kiểm tra: 0.720\n",
    "- RMSE cao hơn so với mô hình sử dụng tất cả đặc trưng\n",
    "- Đây là một mô hình đơn giản hơn nhưng vẫn có khả năng dự đoán khá tốt"
   ]
  },
  {
   "cell_type": "markdown",
   "metadata": {},
   "source": [
    "#### Hồi quy tuyến tính với tự động lựa chọn đặc trưng"
   ]
  },
  {
   "cell_type": "markdown",
   "metadata": {},
   "source": [
    "$$ y =  \\beta_0 + \\sum_{j=1}^n \\beta_j * x_j\\\\ \\overline{1..n} \\text{ is the subset of chosed columns by performing feature selection on dataset $D$ (MAE metric)} $$"
   ]
  },
  {
   "cell_type": "code",
   "execution_count": null,
   "metadata": {},
   "outputs": [],
   "source": [
    "model_testing(auto_selection=True);"
   ]
  },
  {
   "cell_type": "markdown",
   "metadata": {},
   "source": [
    "#### Insights:\n",
    "- Thông qua quá trình lựa chọn đặc trưng tự động (backword elimination), mô hình đã loại bỏ 'Owner' và 'Price'\n",
    "- R² cho tập huấn luyện: 0.829, tập kiểm tra: 0.892\n",
    "- Mô hình này có hiệu suất gần tương đương với mô hình sử dụng tất cả đặc trưng nhưng đơn giản hơn\n",
    "- Điều này cho thấy 'Owner' không ảnh hưởng nhiều đến dự đoán giá xe"
   ]
  },
  {
   "cell_type": "markdown",
   "metadata": {},
   "source": [
    "#### Hồi quy đa thức (Polynomial Regression) bậc 2"
   ]
  },
  {
   "cell_type": "markdown",
   "metadata": {},
   "source": [
    "$$ y = \\beta_0 + \\sum_{j=1}^p \\beta_j x_j + \\sum_{j=1}^p \\beta_{j+p} x_j^2 + ... + \\sum_{j=1}^p \\beta_{j+(d-1)p} x_j^d + \\varepsilon \\\\ \\text{n is the number of predictors and d is the chosen degree of polynomial regression} \\\\ \\overline{1..p} \\text{ is the subset of chosed columns by performing feature selection on dataset $D$ (MAE metric)} $$"
   ]
  },
  {
   "cell_type": "code",
   "execution_count": null,
   "metadata": {},
   "outputs": [],
   "source": [
    "model_testing(linear=False,\n",
    "              deg=2,\n",
    "              auto_selection=True,\n",
    "              model_type=PolynomialRegression);"
   ]
  },
  {
   "cell_type": "markdown",
   "metadata": {},
   "source": [
    "#### Insights:\n",
    "- Mô hình hồi quy đa thức bậc 2 đã loại bỏ nhiều đặc trưng không cần thiết (các biến bậc 2)\n",
    "- R² cho tập huấn luyện: 0.824, tập kiểm tra: 0.873\n",
    "- Mô hình này có hiệu suất tốt nhưng không cải thiện đáng kể so với hồi quy tuyến tính\n",
    "- Phân phối phần dư (residuals) khá đồng đều, cho thấy mô hình phù hợp với dữ liệu"
   ]
  },
  {
   "cell_type": "markdown",
   "metadata": {},
   "source": [
    "#### Hồi quy hỗn hợp (Mixed Regression) với các đặc trưng tương tác"
   ]
  },
  {
   "cell_type": "markdown",
   "metadata": {},
   "source": [
    "$$ y = \\beta_0 + \\sum_{j=1}^{p} \\beta_j x_j + \\sum_{j=1}^{p} \\sum_{d=2}^D \\beta_{jd} x_j^d + \\sum_{j=1}^{p} \\sum_{k>j}^{p} \\beta_{jk} (x_j \\times x_k) + \\varepsilon \\\\ \\varepsilon : \\text{Error term (residuals) - Represents the unexplained variation} \\\\ \\text{assumed to follow normal distribution with mean 0 and constant variance $\\sigma^2$}\n",
    "\\\\ p : \\text{Number of predictor variables (features) in the dataset}\n",
    "\\\\ D : \\text{Maximum polynomial degree considered in the model (controlled by self.degree in the code)} $$"
   ]
  },
  {
   "cell_type": "code",
   "execution_count": null,
   "metadata": {},
   "outputs": [],
   "source": [
    "from modelling.Model import MixedRegression\n",
    "import warnings\n",
    "from pandas.errors import PerformanceWarning\n",
    "warnings.filterwarnings(\"ignore\", category=PerformanceWarning)\n",
    "\n",
    "model_testing(linear=False,\n",
    "              deg=2,\n",
    "              auto_selection=True,\n",
    "              model_type=MixedRegression);"
   ]
  },
  {
   "cell_type": "markdown",
   "metadata": {},
   "source": [
    "#### Insights:\n",
    "- Mô hình hồi quy hỗn hợp tạo ra nhiều đặc trưng tương tác giữa các đặc trưng gốc\n",
    "- R² cho tập huấn luyện rất cao (0.957) nhưng R² cho tập kiểm tra thấp hơn (0.752)\n",
    "- Sự chênh lệch lớn giữa hiệu suất trên tập huấn luyện và kiểm tra cho thấy mô hình bị overfitting\n",
    "- Mặc dù mô hình này phức tạp nhất, nó không phải là mô hình tốt nhất để dự đoán giá xe do vấn đề overfitting"
   ]
  },
  {
   "cell_type": "markdown",
   "metadata": {},
   "source": [
    "### 3. Chọn mô hình tổng quát nhất cho dự đoán"
   ]
  },
  {
   "cell_type": "code",
   "execution_count": null,
   "metadata": {},
   "outputs": [],
   "source": [
    "# all in\n",
    "subcols = model_testing(auto_selection=True, plot=False)\n",
    "model.fit(train_df[subcols], train_df['Price'])"
   ]
  },
  {
   "cell_type": "markdown",
   "metadata": {},
   "source": [
    "#### Insights:\n",
    "- Sau khi so sánh các mô hình, chúng ta chọn mô hình hồi quy tuyến tính với lựa chọn đặc trưng tự động\n",
    "- Mô hình này cung cấp sự cân bằng tốt giữa độ chính xác và độ phức tạp\n",
    "- Các đặc trưng được chọn bao gồm các thông số kỹ thuật quan trọng của xe như năm sản xuất, số km đã đi, công suất động cơ, kích thước xe, v.v."
   ]
  },
  {
   "cell_type": "markdown",
   "metadata": {},
   "source": [
    "### Lưu preprocessor và mô hình"
   ]
  },
  {
   "cell_type": "code",
   "execution_count": null,
   "metadata": {},
   "outputs": [],
   "source": [
    "import pickle\n",
    "\n",
    "# Define paths for saving the objects\n",
    "preprocessor_save_path = 'pickle/preprocessor.pkl'\n",
    "model_save_path = 'pickle/model.pkl'\n",
    "\n",
    "# Save the preprocessor object\n",
    "try:\n",
    "    with open(preprocessor_save_path, 'wb') as f:\n",
    "        pickle.dump(preprocessor, f)\n",
    "    print(f\"Preprocessor successfully saved to {preprocessor_save_path}\")\n",
    "except NameError:\n",
    "    print(\"Error: 'preprocessor' object not found. Was it defined earlier in the notebook?\")\n",
    "except Exception as e:\n",
    "    print(f\"Error saving preprocessor: {e}\")\n",
    "\n",
    "# Save the trained model object\n",
    "try:\n",
    "    with open(model_save_path, 'wb') as f:\n",
    "        pickle.dump(model, f)\n",
    "    print(f\"Model successfully saved to {model_save_path}\")\n",
    "except NameError:\n",
    "    print(\"Error: 'model' object not found. Was it trained and assigned earlier in the notebook?\")\n",
    "except Exception as e:\n",
    "    print(f\"Error saving model: {e}\")"
   ]
  },
  {
   "cell_type": "markdown",
   "metadata": {},
   "source": [
    "## IV. Dự đoán trên tập dữ liệu mới"
   ]
  },
  {
   "cell_type": "code",
   "execution_count": null,
   "metadata": {},
   "outputs": [],
   "source": [
    "feature_names = ['Year', 'Kilometer', 'Max Power RPM', 'Max Torque RPM', 'Engine', 'Length', 'Height', 'Width', 'Fuel Tank Capacity', 'Max Power BHP', 'Max Torque Nm', 'Owner', 'Drivetrain_FWD', 'Drivetrain_RWD', 'Fuel Type_Diesel', 'Fuel Type_Others', 'Fuel Type_Petrol', 'Seller Type_Corporate', 'Seller Type_Individual', 'Transmission_Manual', 'Price', 'Seating Capacity']\n",
    "subcols = ['Year', 'Kilometer', 'Max Power RPM', 'Max Torque RPM', 'Engine', 'Length', 'Height', 'Width', 'Fuel Tank Capacity', 'Max Power BHP', 'Max Torque Nm', 'Seating Capacity', 'Drivetrain_FWD', 'Drivetrain_RWD', 'Fuel Type_Diesel', 'Fuel Type_Others', 'Fuel Type_Petrol', 'Seller Type_Corporate', 'Seller Type_Individual', 'Transmission_Manual']\n",
    "\n",
    "def clean_data(data):\n",
    "    data[\"Engine\"] = data[\"Engine\"].str.replace(\n",
    "        ' cc', '', regex=False).astype(float)\n",
    "\n",
    "    data[['Max Power BHP', 'Max Power RPM']] = data['Max Power'].str.extract(\n",
    "        r'(\\d+)\\s*bhp\\s*@\\s*(\\d+)\\s*rpm')\n",
    "    data['Max Power BHP'] = pd.to_numeric(\n",
    "        data['Max Power BHP'], errors='coerce')\n",
    "    data['Max Power RPM'] = pd.to_numeric(\n",
    "        data['Max Power RPM'], errors='coerce')\n",
    "\n",
    "    data[['Max Torque Nm', 'Max Torque RPM']] = data['Max Torque'].str.extract(\n",
    "        r'(\\d+)\\s*Nm\\s*@\\s*(\\d+)\\s*rpm')\n",
    "    data['Max Torque Nm'] = pd.to_numeric(\n",
    "        data['Max Torque Nm'], errors='coerce')\n",
    "    data['Max Torque RPM'] = pd.to_numeric(\n",
    "        data['Max Torque RPM'], errors='coerce')\n",
    "\n",
    "    rare_fuel_types = ['Electric', 'LPG',\n",
    "                       'Hybrid', 'CNG + CNG', 'Petrol + LPG']\n",
    "    data[\"Fuel Type\"] = data[\"Fuel Type\"].apply(\n",
    "        lambda x: 'Others' if x in rare_fuel_types else x)\n",
    "\n",
    "    drop_columns = ['Make', 'Model', 'Location',\n",
    "                    'Color', 'Max Power', 'Max Torque']\n",
    "    data.drop(drop_columns, axis=1, inplace=True)\n",
    "\n",
    "    return data"
   ]
  },
  {
   "cell_type": "code",
   "execution_count": null,
   "metadata": {},
   "outputs": [],
   "source": [
    "import pickle\n",
    "from sklearn.metrics import mean_squared_error, r2_score, mean_absolute_error\n",
    "import pandas as pd\n",
    "\n",
    "# Define paths for loading the objects\n",
    "preprocessor_load_path = 'pickle/preprocessor.pkl'\n",
    "model_load_path = 'pickle/model.pkl'\n",
    "\n",
    "# Load the preprocessor object\n",
    "try:\n",
    "    with open(preprocessor_load_path, 'rb') as f:\n",
    "        preprocessor = pickle.load(f)\n",
    "    print(f\"Preprocessor successfully loaded from {preprocessor_load_path}\")\n",
    "except FileNotFoundError:\n",
    "    print(\n",
    "        f\"Error: Preprocessor file not found at {preprocessor_load_path}. Make sure it was saved correctly.\")\n",
    "except Exception as e:\n",
    "    print(f\"Error loading preprocessor: {e}\")\n",
    "\n",
    "# Load the trained model object\n",
    "try:\n",
    "    with open(model_load_path, 'rb') as f:\n",
    "        model = pickle.load(f)\n",
    "    print(f\"Model successfully loaded from {model_load_path}\")\n",
    "except FileNotFoundError:\n",
    "    print(\n",
    "        f\"Error: Model file not found at {model_load_path}. Make sure it was saved correctly.\")\n",
    "except Exception as e:\n",
    "    print(f\"Error loading model: {e}\")\n",
    "\n",
    "# Now proceed with reading the test data\n",
    "data_path = './data/test.csv'\n",
    "test_data = pd.read_csv(data_path)\n",
    "test_data = clean_data(test_data)\n",
    "test_data.dropna(inplace=True) # Nếu như file test thầy có nan thì bỏ dòng này đi\n",
    "y = test_data['Price']\n",
    "test_data = preprocessor.transform(test_data)\n",
    "test_data = pd.DataFrame(test_data, columns=feature_names)\n",
    "model.predict(test_data[subcols])\n",
    "y_pred = model.predict(test_data[subcols])\n",
    "\n",
    "print('Test r^2: ', r2_score(y, y_pred))\n",
    "print('Test MAE: ', f\"{mean_absolute_error(y, y_pred):.3e}\")\n",
    "print('Test MSE: ', f\"{mean_squared_error(y, y_pred):.3e}\")"
   ]
  },
  {
   "cell_type": "markdown",
   "metadata": {},
   "source": [
    "## Kết luận:\n",
    "\n",
    "1. **Mô hình tốt nhất**: Hồi quy tuyến tính với lựa chọn đặc trưng tự động là mô hình tốt nhất cho bài toán dự đoán giá xe cũ\n",
    "2. **Đặc trưng quan trọng**: Các đặc trưng quan trọng nhất bao gồm năm sản xuất, số km đã đi, công suất động cơ, kích thước xe, loại nhiên liệu, và hệ dẫn động\n",
    "3. **Hiệu suất mô hình**: Mô hình có R² xấp xỉ 0.84 trên tập dữ liệu kiểm tra, cho thấy khả năng dự đoán tốt\n",
    "4. **Hạn chế**: Mô hình hồi quy đa thức và hỗn hợp không cải thiện đáng kể hiệu suất, thậm chí mô hình hỗn hợp còn bị overfitting\n",
    "\n",
    "Mô hình hồi quy tuyến tính với lựa chọn đặc trưng tự động là sự lựa chọn phù hợp nhất cho bài toán này vì nó cung cấp sự cân bằng tốt giữa độ chính xác và độ phức tạp."
   ]
  }
 ],
 "metadata": {
  "kernelspec": {
   "display_name": "cmm",
   "language": "python",
   "name": "python3"
  },
  "language_info": {
   "codemirror_mode": {
    "name": "ipython",
    "version": 3
   },
   "file_extension": ".py",
   "mimetype": "text/x-python",
   "name": "python",
   "nbconvert_exporter": "python",
   "pygments_lexer": "ipython3",
   "version": "3.12.9"
  }
 },
 "nbformat": 4,
 "nbformat_minor": 2
}
