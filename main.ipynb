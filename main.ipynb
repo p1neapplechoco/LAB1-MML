{
 "cells": [
  {
   "cell_type": "code",
   "id": "7e35a9f9-b360-4767-818e-e5662bc92e9b",
   "metadata": {
    "ExecuteTime": {
     "end_time": "2025-03-21T04:47:43.674815Z",
     "start_time": "2025-03-21T04:47:36.202170Z"
    }
   },
   "source": [
    "%pip install numpy\n",
    "%pip install pandas\n",
    "%pip install matplotlib\n",
    "%pip install scipy"
   ],
   "outputs": [
    {
     "name": "stdout",
     "output_type": "stream",
     "text": [
      "Requirement already satisfied: numpy in c:\\users\\phine\\miniconda3\\lib\\site-packages (2.2.4)\n",
      "Note: you may need to restart the kernel to use updated packages.\n",
      "Requirement already satisfied: pandas in c:\\users\\phine\\miniconda3\\lib\\site-packages (2.2.3)\n",
      "Requirement already satisfied: numpy>=1.26.0 in c:\\users\\phine\\miniconda3\\lib\\site-packages (from pandas) (2.2.4)\n",
      "Requirement already satisfied: python-dateutil>=2.8.2 in c:\\users\\phine\\miniconda3\\lib\\site-packages (from pandas) (2.9.0.post0)\n",
      "Requirement already satisfied: pytz>=2020.1 in c:\\users\\phine\\miniconda3\\lib\\site-packages (from pandas) (2025.1)\n",
      "Requirement already satisfied: tzdata>=2022.7 in c:\\users\\phine\\miniconda3\\lib\\site-packages (from pandas) (2025.1)\n",
      "Requirement already satisfied: six>=1.5 in c:\\users\\phine\\miniconda3\\lib\\site-packages (from python-dateutil>=2.8.2->pandas) (1.17.0)\n",
      "Note: you may need to restart the kernel to use updated packages.\n",
      "Requirement already satisfied: matplotlib in c:\\users\\phine\\miniconda3\\lib\\site-packages (3.10.1)\n",
      "Requirement already satisfied: contourpy>=1.0.1 in c:\\users\\phine\\miniconda3\\lib\\site-packages (from matplotlib) (1.3.1)\n",
      "Requirement already satisfied: cycler>=0.10 in c:\\users\\phine\\miniconda3\\lib\\site-packages (from matplotlib) (0.12.1)\n",
      "Requirement already satisfied: fonttools>=4.22.0 in c:\\users\\phine\\miniconda3\\lib\\site-packages (from matplotlib) (4.56.0)\n",
      "Requirement already satisfied: kiwisolver>=1.3.1 in c:\\users\\phine\\miniconda3\\lib\\site-packages (from matplotlib) (1.4.8)\n",
      "Requirement already satisfied: numpy>=1.23 in c:\\users\\phine\\miniconda3\\lib\\site-packages (from matplotlib) (2.2.4)\n",
      "Requirement already satisfied: packaging>=20.0 in c:\\users\\phine\\miniconda3\\lib\\site-packages (from matplotlib) (24.1)\n",
      "Requirement already satisfied: pillow>=8 in c:\\users\\phine\\miniconda3\\lib\\site-packages (from matplotlib) (11.1.0)\n",
      "Requirement already satisfied: pyparsing>=2.3.1 in c:\\users\\phine\\miniconda3\\lib\\site-packages (from matplotlib) (3.2.1)\n",
      "Requirement already satisfied: python-dateutil>=2.7 in c:\\users\\phine\\miniconda3\\lib\\site-packages (from matplotlib) (2.9.0.post0)\n",
      "Requirement already satisfied: six>=1.5 in c:\\users\\phine\\miniconda3\\lib\\site-packages (from python-dateutil>=2.7->matplotlib) (1.17.0)\n",
      "Note: you may need to restart the kernel to use updated packages.\n",
      "Requirement already satisfied: scipy in c:\\users\\phine\\miniconda3\\lib\\site-packages (1.15.2)\n",
      "Requirement already satisfied: numpy<2.5,>=1.23.5 in c:\\users\\phine\\miniconda3\\lib\\site-packages (from scipy) (2.2.4)\n",
      "Note: you may need to restart the kernel to use updated packages.\n"
     ]
    }
   ],
   "execution_count": 292
  },
  {
   "cell_type": "code",
   "id": "baf20907",
   "metadata": {
    "ExecuteTime": {
     "end_time": "2025-03-21T04:47:43.697330Z",
     "start_time": "2025-03-21T04:47:43.691797Z"
    }
   },
   "source": [
    "import numpy as np\n",
    "import pandas as pd\n",
    "import matplotlib.pyplot as plt\n",
    "\n",
    "from collections import Counter"
   ],
   "outputs": [],
   "execution_count": 293
  },
  {
   "cell_type": "code",
   "id": "5bdbbfe3",
   "metadata": {
    "ExecuteTime": {
     "end_time": "2025-03-21T04:47:43.718218Z",
     "start_time": "2025-03-21T04:47:43.705397Z"
    }
   },
   "source": [
    "path = './data/'\n",
    "\n",
    "data = pd.read_csv(path + 'train.csv')\n",
    "\n",
    "print(len(data))\n",
    "print(data.columns)"
   ],
   "outputs": [
    {
     "name": "stdout",
     "output_type": "stream",
     "text": [
      "1647\n",
      "Index(['Make', 'Model', 'Price', 'Year', 'Kilometer', 'Fuel Type',\n",
      "       'Transmission', 'Location', 'Color', 'Owner', 'Seller Type', 'Engine',\n",
      "       'Max Power', 'Max Torque', 'Drivetrain', 'Length', 'Width', 'Height',\n",
      "       'Seating Capacity', 'Fuel Tank Capacity'],\n",
      "      dtype='object')\n"
     ]
    }
   ],
   "execution_count": 294
  },
  {
   "cell_type": "code",
   "id": "ef8e5811",
   "metadata": {
    "ExecuteTime": {
     "end_time": "2025-03-21T04:47:43.757590Z",
     "start_time": "2025-03-21T04:47:43.743310Z"
    }
   },
   "source": [
    "data.head()"
   ],
   "outputs": [
    {
     "data": {
      "text/plain": [
       "            Make                            Model     Price  Year  Kilometer  \\\n",
       "0            BMW                    3-Series 320d    800000  2012      75576   \n",
       "1            BMW               X1 sDrive20d xLine   2199000  2016      77000   \n",
       "2       Mahindra                   XUV500 W4 1.99    800000  2017     112000   \n",
       "3  Mercedes-Benz                  GLS 400d 4MATIC  12900000  2021       3000   \n",
       "4         Toyota  Fortuner 2.8 4x2 AT [2016-2020]   3499000  2019      73000   \n",
       "\n",
       "  Fuel Type Transmission     Location   Color   Owner Seller Type   Engine  \\\n",
       "0    Diesel    Automatic       Mumbai   White  Second  Individual      NaN   \n",
       "1    Diesel    Automatic        Surat   Black   First  Individual  1995 cc   \n",
       "2    Diesel       Manual  Muzaffurpur  Silver   First  Individual  1997 cc   \n",
       "3    Diesel    Automatic        Delhi   White   First  Individual  2925 cc   \n",
       "4    Diesel    Automatic       Mumbai   White   First  Individual  2755 cc   \n",
       "\n",
       "            Max Power         Max Torque Drivetrain  Length   Width  Height  \\\n",
       "0                 NaN                NaN        NaN     NaN     NaN     NaN   \n",
       "1  184 bhp @ 4000 rpm  350 Nm @ 1750 rpm        RWD  4454.0  2044.0  1545.0   \n",
       "2  138 bhp @ 3750 rpm  320 Nm @ 1600 rpm        FWD  4585.0  1890.0  1785.0   \n",
       "3  326 bhp @ 3600 rpm  700 Nm @ 1200 rpm        AWD  5207.0  2157.0  1823.0   \n",
       "4  174 bhp @ 3400 rpm  450 Nm @ 1600 rpm        RWD  4795.0  1855.0  1835.0   \n",
       "\n",
       "   Seating Capacity  Fuel Tank Capacity  \n",
       "0               NaN                 NaN  \n",
       "1               5.0                63.0  \n",
       "2               7.0                70.0  \n",
       "3               7.0                90.0  \n",
       "4               7.0                80.0  "
      ],
      "text/html": [
       "<div>\n",
       "<style scoped>\n",
       "    .dataframe tbody tr th:only-of-type {\n",
       "        vertical-align: middle;\n",
       "    }\n",
       "\n",
       "    .dataframe tbody tr th {\n",
       "        vertical-align: top;\n",
       "    }\n",
       "\n",
       "    .dataframe thead th {\n",
       "        text-align: right;\n",
       "    }\n",
       "</style>\n",
       "<table border=\"1\" class=\"dataframe\">\n",
       "  <thead>\n",
       "    <tr style=\"text-align: right;\">\n",
       "      <th></th>\n",
       "      <th>Make</th>\n",
       "      <th>Model</th>\n",
       "      <th>Price</th>\n",
       "      <th>Year</th>\n",
       "      <th>Kilometer</th>\n",
       "      <th>Fuel Type</th>\n",
       "      <th>Transmission</th>\n",
       "      <th>Location</th>\n",
       "      <th>Color</th>\n",
       "      <th>Owner</th>\n",
       "      <th>Seller Type</th>\n",
       "      <th>Engine</th>\n",
       "      <th>Max Power</th>\n",
       "      <th>Max Torque</th>\n",
       "      <th>Drivetrain</th>\n",
       "      <th>Length</th>\n",
       "      <th>Width</th>\n",
       "      <th>Height</th>\n",
       "      <th>Seating Capacity</th>\n",
       "      <th>Fuel Tank Capacity</th>\n",
       "    </tr>\n",
       "  </thead>\n",
       "  <tbody>\n",
       "    <tr>\n",
       "      <th>0</th>\n",
       "      <td>BMW</td>\n",
       "      <td>3-Series 320d</td>\n",
       "      <td>800000</td>\n",
       "      <td>2012</td>\n",
       "      <td>75576</td>\n",
       "      <td>Diesel</td>\n",
       "      <td>Automatic</td>\n",
       "      <td>Mumbai</td>\n",
       "      <td>White</td>\n",
       "      <td>Second</td>\n",
       "      <td>Individual</td>\n",
       "      <td>NaN</td>\n",
       "      <td>NaN</td>\n",
       "      <td>NaN</td>\n",
       "      <td>NaN</td>\n",
       "      <td>NaN</td>\n",
       "      <td>NaN</td>\n",
       "      <td>NaN</td>\n",
       "      <td>NaN</td>\n",
       "      <td>NaN</td>\n",
       "    </tr>\n",
       "    <tr>\n",
       "      <th>1</th>\n",
       "      <td>BMW</td>\n",
       "      <td>X1 sDrive20d xLine</td>\n",
       "      <td>2199000</td>\n",
       "      <td>2016</td>\n",
       "      <td>77000</td>\n",
       "      <td>Diesel</td>\n",
       "      <td>Automatic</td>\n",
       "      <td>Surat</td>\n",
       "      <td>Black</td>\n",
       "      <td>First</td>\n",
       "      <td>Individual</td>\n",
       "      <td>1995 cc</td>\n",
       "      <td>184 bhp @ 4000 rpm</td>\n",
       "      <td>350 Nm @ 1750 rpm</td>\n",
       "      <td>RWD</td>\n",
       "      <td>4454.0</td>\n",
       "      <td>2044.0</td>\n",
       "      <td>1545.0</td>\n",
       "      <td>5.0</td>\n",
       "      <td>63.0</td>\n",
       "    </tr>\n",
       "    <tr>\n",
       "      <th>2</th>\n",
       "      <td>Mahindra</td>\n",
       "      <td>XUV500 W4 1.99</td>\n",
       "      <td>800000</td>\n",
       "      <td>2017</td>\n",
       "      <td>112000</td>\n",
       "      <td>Diesel</td>\n",
       "      <td>Manual</td>\n",
       "      <td>Muzaffurpur</td>\n",
       "      <td>Silver</td>\n",
       "      <td>First</td>\n",
       "      <td>Individual</td>\n",
       "      <td>1997 cc</td>\n",
       "      <td>138 bhp @ 3750 rpm</td>\n",
       "      <td>320 Nm @ 1600 rpm</td>\n",
       "      <td>FWD</td>\n",
       "      <td>4585.0</td>\n",
       "      <td>1890.0</td>\n",
       "      <td>1785.0</td>\n",
       "      <td>7.0</td>\n",
       "      <td>70.0</td>\n",
       "    </tr>\n",
       "    <tr>\n",
       "      <th>3</th>\n",
       "      <td>Mercedes-Benz</td>\n",
       "      <td>GLS 400d 4MATIC</td>\n",
       "      <td>12900000</td>\n",
       "      <td>2021</td>\n",
       "      <td>3000</td>\n",
       "      <td>Diesel</td>\n",
       "      <td>Automatic</td>\n",
       "      <td>Delhi</td>\n",
       "      <td>White</td>\n",
       "      <td>First</td>\n",
       "      <td>Individual</td>\n",
       "      <td>2925 cc</td>\n",
       "      <td>326 bhp @ 3600 rpm</td>\n",
       "      <td>700 Nm @ 1200 rpm</td>\n",
       "      <td>AWD</td>\n",
       "      <td>5207.0</td>\n",
       "      <td>2157.0</td>\n",
       "      <td>1823.0</td>\n",
       "      <td>7.0</td>\n",
       "      <td>90.0</td>\n",
       "    </tr>\n",
       "    <tr>\n",
       "      <th>4</th>\n",
       "      <td>Toyota</td>\n",
       "      <td>Fortuner 2.8 4x2 AT [2016-2020]</td>\n",
       "      <td>3499000</td>\n",
       "      <td>2019</td>\n",
       "      <td>73000</td>\n",
       "      <td>Diesel</td>\n",
       "      <td>Automatic</td>\n",
       "      <td>Mumbai</td>\n",
       "      <td>White</td>\n",
       "      <td>First</td>\n",
       "      <td>Individual</td>\n",
       "      <td>2755 cc</td>\n",
       "      <td>174 bhp @ 3400 rpm</td>\n",
       "      <td>450 Nm @ 1600 rpm</td>\n",
       "      <td>RWD</td>\n",
       "      <td>4795.0</td>\n",
       "      <td>1855.0</td>\n",
       "      <td>1835.0</td>\n",
       "      <td>7.0</td>\n",
       "      <td>80.0</td>\n",
       "    </tr>\n",
       "  </tbody>\n",
       "</table>\n",
       "</div>"
      ]
     },
     "execution_count": 295,
     "metadata": {},
     "output_type": "execute_result"
    }
   ],
   "execution_count": 295
  },
  {
   "metadata": {},
   "cell_type": "markdown",
   "source": "# PREPROCESS DATA",
   "id": "207032b82898cafa"
  },
  {
   "metadata": {},
   "cell_type": "markdown",
   "source": "## 1. Normalization",
   "id": "11f482d247095bb2"
  },
  {
   "metadata": {
    "ExecuteTime": {
     "end_time": "2025-03-21T04:47:43.824051Z",
     "start_time": "2025-03-21T04:47:43.805613Z"
    }
   },
   "cell_type": "code",
   "source": [
    "data.dropna(how='all')\n",
    "\n",
    "data[\"Engine\"] = data[\"Engine\"].str.replace(' cc', '', regex=False).astype(float)\n",
    "\n",
    "data[['Max Power BHP', 'Max Power RPM']] = data['Max Power'].str.extract(r'(\\d+)\\s*bhp\\s*@\\s*(\\d+)\\s*rpm')\n",
    "data['Max Power BHP'] = pd.to_numeric(data['Max Power BHP'], errors='coerce')\n",
    "data['Max Power RPM'] = pd.to_numeric(data['Max Power RPM'], errors='coerce')\n",
    "\n",
    "data[['Max Torque Nm', 'Max Torque RPM']] = data['Max Torque'].str.extract(r'(\\d+)\\s*Nm\\s*@\\s*(\\d+)\\s*rpm')\n",
    "data['Max Torque Nm'] = pd.to_numeric(data['Max Torque Nm'], errors='coerce')\n",
    "data['Max Torque RPM'] = pd.to_numeric(data['Max Torque RPM'], errors='coerce')\n",
    "\n",
    "data = data.drop('Max Power', axis=1)\n",
    "data = data.drop('Max Torque', axis=1)\n",
    "\n"
   ],
   "id": "400e0f760b6eb472",
   "outputs": [],
   "execution_count": 296
  },
  {
   "metadata": {},
   "cell_type": "markdown",
   "source": "Số lượng dữ liệu bị thiếu ở các cột",
   "id": "4593ea36a79094df"
  },
  {
   "metadata": {
    "ExecuteTime": {
     "end_time": "2025-03-21T04:47:43.883791Z",
     "start_time": "2025-03-21T04:47:43.875685Z"
    }
   },
   "cell_type": "code",
   "source": "data.isna().sum()\n",
   "id": "80bbe2ef60fe80b5",
   "outputs": [
    {
     "data": {
      "text/plain": [
       "Make                    0\n",
       "Model                   0\n",
       "Price                   0\n",
       "Year                    0\n",
       "Kilometer               0\n",
       "Fuel Type               0\n",
       "Transmission            0\n",
       "Location                0\n",
       "Color                   0\n",
       "Owner                   0\n",
       "Seller Type             0\n",
       "Engine                 65\n",
       "Drivetrain            111\n",
       "Length                 52\n",
       "Width                  52\n",
       "Height                 52\n",
       "Seating Capacity       52\n",
       "Fuel Tank Capacity     90\n",
       "Max Power BHP         172\n",
       "Max Power RPM         172\n",
       "Max Torque Nm         168\n",
       "Max Torque RPM        168\n",
       "dtype: int64"
      ]
     },
     "execution_count": 297,
     "metadata": {},
     "output_type": "execute_result"
    }
   ],
   "execution_count": 297
  },
  {
   "metadata": {},
   "cell_type": "markdown",
   "source": "## 2. Xử lí dữ liệu bị thiếu",
   "id": "549f080a836f52af"
  },
  {
   "metadata": {
    "ExecuteTime": {
     "end_time": "2025-03-21T04:47:43.979210Z",
     "start_time": "2025-03-21T04:47:43.975453Z"
    }
   },
   "cell_type": "code",
   "source": [
    "def drop_na(df : pd.DataFrame):\n",
    "    return df.dropna(how='any')"
   ],
   "id": "ea2afbde5739a1dd",
   "outputs": [],
   "execution_count": 298
  },
  {
   "metadata": {},
   "cell_type": "markdown",
   "source": "### 2.1 Fill missing values with mean",
   "id": "b13d1df9b1c1cdda"
  },
  {
   "metadata": {
    "ExecuteTime": {
     "end_time": "2025-03-21T04:47:44.032986Z",
     "start_time": "2025-03-21T04:47:44.027247Z"
    }
   },
   "cell_type": "code",
   "source": [
    "def fill_mean(df : pd.DataFrame):\n",
    "    return df.apply(lambda x : x.fillna(x.mean()) if x.dtype.kind in 'biufc' else x)"
   ],
   "id": "e94724a1589a396",
   "outputs": [],
   "execution_count": 299
  },
  {
   "metadata": {
    "ExecuteTime": {
     "end_time": "2025-03-21T04:47:44.085519Z",
     "start_time": "2025-03-21T04:47:44.078126Z"
    }
   },
   "cell_type": "code",
   "source": "data_mean = fill_mean(data)",
   "id": "259d8ba97c2b8841",
   "outputs": [],
   "execution_count": 300
  },
  {
   "metadata": {
    "ExecuteTime": {
     "end_time": "2025-03-21T04:47:44.098293Z",
     "start_time": "2025-03-21T04:47:44.091769Z"
    }
   },
   "cell_type": "code",
   "source": "data_mean.isna().sum()",
   "id": "4f1e7106816346a0",
   "outputs": [
    {
     "data": {
      "text/plain": [
       "Make                    0\n",
       "Model                   0\n",
       "Price                   0\n",
       "Year                    0\n",
       "Kilometer               0\n",
       "Fuel Type               0\n",
       "Transmission            0\n",
       "Location                0\n",
       "Color                   0\n",
       "Owner                   0\n",
       "Seller Type             0\n",
       "Engine                  0\n",
       "Drivetrain            111\n",
       "Length                  0\n",
       "Width                   0\n",
       "Height                  0\n",
       "Seating Capacity        0\n",
       "Fuel Tank Capacity      0\n",
       "Max Power BHP           0\n",
       "Max Power RPM           0\n",
       "Max Torque Nm           0\n",
       "Max Torque RPM          0\n",
       "dtype: int64"
      ]
     },
     "execution_count": 301,
     "metadata": {},
     "output_type": "execute_result"
    }
   ],
   "execution_count": 301
  },
  {
   "metadata": {},
   "cell_type": "markdown",
   "source": "--> Các cột với kiểu dữ liệu str không thể được fill",
   "id": "92b34e23898ee13f"
  },
  {
   "metadata": {
    "ExecuteTime": {
     "end_time": "2025-03-21T04:47:44.156217Z",
     "start_time": "2025-03-21T04:47:44.135100Z"
    }
   },
   "cell_type": "code",
   "source": [
    "data_mean = drop_na(data_mean)\n",
    "data_mean.to_csv(path + 'train_mean.csv', index=False)"
   ],
   "id": "6bb32e064db05657",
   "outputs": [],
   "execution_count": 302
  },
  {
   "metadata": {},
   "cell_type": "markdown",
   "source": "### 2.2 Fill missing values with median",
   "id": "76b62751f18be8b9"
  },
  {
   "metadata": {
    "ExecuteTime": {
     "end_time": "2025-03-21T04:47:44.221077Z",
     "start_time": "2025-03-21T04:47:44.216919Z"
    }
   },
   "cell_type": "code",
   "source": [
    "def fill_median(df : pd.DataFrame):\n",
    "    return df.apply(lambda x: x.fillna(x.median()) if x.dtype.kind in 'biufc' else x)"
   ],
   "id": "35d62b2072001b49",
   "outputs": [],
   "execution_count": 303
  },
  {
   "metadata": {
    "ExecuteTime": {
     "end_time": "2025-03-21T04:47:44.306236Z",
     "start_time": "2025-03-21T04:47:44.296872Z"
    }
   },
   "cell_type": "code",
   "source": "data_median = fill_median(data)",
   "id": "88b5cd6e1eb6e486",
   "outputs": [],
   "execution_count": 304
  },
  {
   "metadata": {
    "ExecuteTime": {
     "end_time": "2025-03-21T04:47:44.328487Z",
     "start_time": "2025-03-21T04:47:44.320851Z"
    }
   },
   "cell_type": "code",
   "source": "data_median.isna().sum()",
   "id": "67eda2550efe665f",
   "outputs": [
    {
     "data": {
      "text/plain": [
       "Make                    0\n",
       "Model                   0\n",
       "Price                   0\n",
       "Year                    0\n",
       "Kilometer               0\n",
       "Fuel Type               0\n",
       "Transmission            0\n",
       "Location                0\n",
       "Color                   0\n",
       "Owner                   0\n",
       "Seller Type             0\n",
       "Engine                  0\n",
       "Drivetrain            111\n",
       "Length                  0\n",
       "Width                   0\n",
       "Height                  0\n",
       "Seating Capacity        0\n",
       "Fuel Tank Capacity      0\n",
       "Max Power BHP           0\n",
       "Max Power RPM           0\n",
       "Max Torque Nm           0\n",
       "Max Torque RPM          0\n",
       "dtype: int64"
      ]
     },
     "execution_count": 305,
     "metadata": {},
     "output_type": "execute_result"
    }
   ],
   "execution_count": 305
  },
  {
   "metadata": {},
   "cell_type": "markdown",
   "source": "--> Tương tự với mean, các cột có kiểu dữ liệu str không thể được fill",
   "id": "456b10f5502b7888"
  },
  {
   "metadata": {
    "ExecuteTime": {
     "end_time": "2025-03-21T04:47:44.400284Z",
     "start_time": "2025-03-21T04:47:44.381248Z"
    }
   },
   "cell_type": "code",
   "source": [
    "data_median = drop_na(data_median)\n",
    "data_median.to_csv(path + 'train_median.csv', index=False)"
   ],
   "id": "7e310d9468c374f3",
   "outputs": [],
   "execution_count": 306
  },
  {
   "metadata": {},
   "cell_type": "markdown",
   "source": "### 2.3 Fill missing values with most common value",
   "id": "e179325c12abe395"
  },
  {
   "metadata": {
    "ExecuteTime": {
     "end_time": "2025-03-21T04:47:44.434423Z",
     "start_time": "2025-03-21T04:47:44.429826Z"
    }
   },
   "cell_type": "code",
   "source": [
    "def fill_mode(df : pd.DataFrame):\n",
    "    return df.apply(lambda x: x.fillna(x.mode()[0]))"
   ],
   "id": "bca3c58a9242794d",
   "outputs": [],
   "execution_count": 307
  },
  {
   "metadata": {
    "ExecuteTime": {
     "end_time": "2025-03-21T04:47:44.472798Z",
     "start_time": "2025-03-21T04:47:44.460985Z"
    }
   },
   "cell_type": "code",
   "source": "data_mode = fill_mode(data)",
   "id": "be6da05a4783c53d",
   "outputs": [],
   "execution_count": 308
  },
  {
   "metadata": {
    "ExecuteTime": {
     "end_time": "2025-03-21T04:47:44.498930Z",
     "start_time": "2025-03-21T04:47:44.490971Z"
    }
   },
   "cell_type": "code",
   "source": "data_mode.isna().sum()",
   "id": "eef9286d7cd222dc",
   "outputs": [
    {
     "data": {
      "text/plain": [
       "Make                  0\n",
       "Model                 0\n",
       "Price                 0\n",
       "Year                  0\n",
       "Kilometer             0\n",
       "Fuel Type             0\n",
       "Transmission          0\n",
       "Location              0\n",
       "Color                 0\n",
       "Owner                 0\n",
       "Seller Type           0\n",
       "Engine                0\n",
       "Drivetrain            0\n",
       "Length                0\n",
       "Width                 0\n",
       "Height                0\n",
       "Seating Capacity      0\n",
       "Fuel Tank Capacity    0\n",
       "Max Power BHP         0\n",
       "Max Power RPM         0\n",
       "Max Torque Nm         0\n",
       "Max Torque RPM        0\n",
       "dtype: int64"
      ]
     },
     "execution_count": 309,
     "metadata": {},
     "output_type": "execute_result"
    }
   ],
   "execution_count": 309
  },
  {
   "metadata": {},
   "cell_type": "markdown",
   "source": "Không còn missing value",
   "id": "e3e23fa7f6bf2170"
  },
  {
   "metadata": {
    "ExecuteTime": {
     "end_time": "2025-03-21T04:47:44.561119Z",
     "start_time": "2025-03-21T04:47:44.540743Z"
    }
   },
   "cell_type": "code",
   "source": [
    "data_mode = drop_na(data_mode)\n",
    "data_mode.to_csv(path + 'train_mode.csv', index=False)"
   ],
   "id": "ec7c7daf51c81501",
   "outputs": [],
   "execution_count": 310
  },
  {
   "metadata": {},
   "cell_type": "markdown",
   "source": "### 2.4 K - Nearest Neighbour",
   "id": "4db54c6e264cb4e1"
  },
  {
   "metadata": {
    "ExecuteTime": {
     "end_time": "2025-03-21T04:47:44.617096Z",
     "start_time": "2025-03-21T04:47:44.610022Z"
    }
   },
   "cell_type": "code",
   "source": [
    "def euclidean_distance(row1, row2):\n",
    "    \"\"\"\n",
    "    Computes the Euclidean distance between two rows, ignoring NaN values and handling only numeric data.\n",
    "    Non-numeric data is excluded from the distance calculation.\n",
    "    \"\"\"\n",
    "    numeric_mask = pd.api.types.is_numeric_dtype(row1) and pd.api.types.is_numeric_dtype(row2)\n",
    "\n",
    "    if numeric_mask:\n",
    "        mask = ~np.isnan(row1) & ~np.isnan(row2)\n",
    "        if np.any(mask):\n",
    "            return np.sqrt(np.sum((row1[mask] - row2[mask]) ** 2))\n",
    "        else:\n",
    "            return np.inf\n",
    "    else:\n",
    "        return np.inf\n",
    "\n",
    "def fill_knn(df, k=3):\n",
    "    df_filled = df.copy()\n",
    "\n",
    "    for i, row in df_filled.iterrows():\n",
    "        if row.isnull().any():\n",
    "            distances = []\n",
    "\n",
    "            for j, other_row in df_filled.iterrows():\n",
    "                if not other_row.isnull().any():\n",
    "                    dist = euclidean_distance(row.values, other_row.values)\n",
    "                    distances.append((dist, j))\n",
    "\n",
    "            distances = sorted(distances, key=lambda x: x[0])\n",
    "            nearest_neighbors = [df_filled.iloc[j] for dist, j in distances[:k]]\n",
    "\n",
    "            for col in df_filled.columns:\n",
    "                if pd.isnull(df_filled.at[i, col]):\n",
    "                    neighbor_values = [neighbor[col] for neighbor in nearest_neighbors]\n",
    "                    neighbor_values = [val for val in neighbor_values if not pd.isnull(val)]\n",
    "\n",
    "                    if pd.api.types.is_numeric_dtype(df_filled[col]):\n",
    "                        df_filled.at[i, col] = np.mean(neighbor_values)\n",
    "                    else:\n",
    "                        df_filled.at[i, col] = Counter(neighbor_values).most_common(1)[0][0]\n",
    "\n",
    "    return df_filled"
   ],
   "id": "6b3a3c57551cac81",
   "outputs": [],
   "execution_count": 311
  },
  {
   "metadata": {
    "ExecuteTime": {
     "end_time": "2025-03-21T04:48:11.580511Z",
     "start_time": "2025-03-21T04:47:44.664778Z"
    }
   },
   "cell_type": "code",
   "source": "data_knn = fill_knn(data)",
   "id": "ba290d3023035d44",
   "outputs": [],
   "execution_count": 312
  },
  {
   "metadata": {
    "ExecuteTime": {
     "end_time": "2025-03-21T04:48:11.600304Z",
     "start_time": "2025-03-21T04:48:11.593076Z"
    }
   },
   "cell_type": "code",
   "source": "data_knn.isna().sum()",
   "id": "4f9b5915a836d999",
   "outputs": [
    {
     "data": {
      "text/plain": [
       "Make                  0\n",
       "Model                 0\n",
       "Price                 0\n",
       "Year                  0\n",
       "Kilometer             0\n",
       "Fuel Type             0\n",
       "Transmission          0\n",
       "Location              0\n",
       "Color                 0\n",
       "Owner                 0\n",
       "Seller Type           0\n",
       "Engine                0\n",
       "Drivetrain            0\n",
       "Length                0\n",
       "Width                 0\n",
       "Height                0\n",
       "Seating Capacity      0\n",
       "Fuel Tank Capacity    0\n",
       "Max Power BHP         0\n",
       "Max Power RPM         0\n",
       "Max Torque Nm         0\n",
       "Max Torque RPM        0\n",
       "dtype: int64"
      ]
     },
     "execution_count": 313,
     "metadata": {},
     "output_type": "execute_result"
    }
   ],
   "execution_count": 313
  },
  {
   "metadata": {
    "ExecuteTime": {
     "end_time": "2025-03-21T04:48:11.645130Z",
     "start_time": "2025-03-21T04:48:11.625528Z"
    }
   },
   "cell_type": "code",
   "source": [
    "data_knn = drop_na(data_knn)\n",
    "data_knn.to_csv(path + 'train_knn.csv', index=False)"
   ],
   "id": "9f0fbfa5b097ed30",
   "outputs": [],
   "execution_count": 314
  },
  {
   "metadata": {},
   "cell_type": "markdown",
   "source": "### 2.5 Interpolation",
   "id": "20b634716041f323"
  },
  {
   "metadata": {
    "ExecuteTime": {
     "end_time": "2025-03-21T04:48:11.687562Z",
     "start_time": "2025-03-21T04:48:11.675330Z"
    }
   },
   "cell_type": "code",
   "source": [
    "inferred_data = data.infer_objects(copy=False)\n",
    "\n",
    "data_interpolate_lin = inferred_data.interpolate(method='linear', limit_direction='both')\n",
    "data_interpolate_lin.isna().sum()"
   ],
   "id": "10363a1831203e1c",
   "outputs": [
    {
     "name": "stderr",
     "output_type": "stream",
     "text": [
      "C:\\Users\\phine\\AppData\\Local\\Temp\\ipykernel_22324\\80612481.py:3: FutureWarning: DataFrame.interpolate with object dtype is deprecated and will raise in a future version. Call obj.infer_objects(copy=False) before interpolating instead.\n",
      "  data_interpolate_lin = inferred_data.interpolate(method='linear', limit_direction='both')\n"
     ]
    },
    {
     "data": {
      "text/plain": [
       "Make                    0\n",
       "Model                   0\n",
       "Price                   0\n",
       "Year                    0\n",
       "Kilometer               0\n",
       "Fuel Type               0\n",
       "Transmission            0\n",
       "Location                0\n",
       "Color                   0\n",
       "Owner                   0\n",
       "Seller Type             0\n",
       "Engine                  0\n",
       "Drivetrain            111\n",
       "Length                  0\n",
       "Width                   0\n",
       "Height                  0\n",
       "Seating Capacity        0\n",
       "Fuel Tank Capacity      0\n",
       "Max Power BHP           0\n",
       "Max Power RPM           0\n",
       "Max Torque Nm           0\n",
       "Max Torque RPM          0\n",
       "dtype: int64"
      ]
     },
     "execution_count": 315,
     "metadata": {},
     "output_type": "execute_result"
    }
   ],
   "execution_count": 315
  },
  {
   "metadata": {
    "ExecuteTime": {
     "end_time": "2025-03-21T04:48:11.812938Z",
     "start_time": "2025-03-21T04:48:11.797094Z"
    }
   },
   "cell_type": "code",
   "source": [
    "inferred_data = data.infer_objects(copy=False)\n",
    "\n",
    "data_interpolate_pol = inferred_data.interpolate(method='polynomial', order=2)\n",
    "data_interpolate_pol.isna().sum()"
   ],
   "id": "12b795112621d6e0",
   "outputs": [
    {
     "name": "stderr",
     "output_type": "stream",
     "text": [
      "C:\\Users\\phine\\AppData\\Local\\Temp\\ipykernel_22324\\3354355801.py:3: FutureWarning: DataFrame.interpolate with object dtype is deprecated and will raise in a future version. Call obj.infer_objects(copy=False) before interpolating instead.\n",
      "  data_interpolate_pol = inferred_data.interpolate(method='polynomial', order=2)\n"
     ]
    },
    {
     "data": {
      "text/plain": [
       "Make                    0\n",
       "Model                   0\n",
       "Price                   0\n",
       "Year                    0\n",
       "Kilometer               0\n",
       "Fuel Type               0\n",
       "Transmission            0\n",
       "Location                0\n",
       "Color                   0\n",
       "Owner                   0\n",
       "Seller Type             0\n",
       "Engine                  1\n",
       "Drivetrain            111\n",
       "Length                  1\n",
       "Width                   1\n",
       "Height                  1\n",
       "Seating Capacity        1\n",
       "Fuel Tank Capacity      1\n",
       "Max Power BHP           1\n",
       "Max Power RPM           1\n",
       "Max Torque Nm           1\n",
       "Max Torque RPM          1\n",
       "dtype: int64"
      ]
     },
     "execution_count": 316,
     "metadata": {},
     "output_type": "execute_result"
    }
   ],
   "execution_count": 316
  },
  {
   "metadata": {
    "ExecuteTime": {
     "end_time": "2025-03-21T04:48:11.956665Z",
     "start_time": "2025-03-21T04:48:11.944261Z"
    }
   },
   "cell_type": "code",
   "source": [
    "inferred_data = data.infer_objects(copy=False)\n",
    "\n",
    "data_interpolate_pad = inferred_data.interpolate(method='pad', limit=2)\n",
    "data_interpolate_pad.isna().sum()"
   ],
   "id": "911970ae24c5ec1c",
   "outputs": [
    {
     "name": "stderr",
     "output_type": "stream",
     "text": [
      "C:\\Users\\phine\\AppData\\Local\\Temp\\ipykernel_22324\\1035036417.py:3: FutureWarning: DataFrame.interpolate with method=pad is deprecated and will raise in a future version. Use obj.ffill() or obj.bfill() instead.\n",
      "  data_interpolate_pad = inferred_data.interpolate(method='pad', limit=2)\n"
     ]
    },
    {
     "data": {
      "text/plain": [
       "Make                  0\n",
       "Model                 0\n",
       "Price                 0\n",
       "Year                  0\n",
       "Kilometer             0\n",
       "Fuel Type             0\n",
       "Transmission          0\n",
       "Location              0\n",
       "Color                 0\n",
       "Owner                 0\n",
       "Seller Type           0\n",
       "Engine                1\n",
       "Drivetrain            1\n",
       "Length                1\n",
       "Width                 1\n",
       "Height                1\n",
       "Seating Capacity      1\n",
       "Fuel Tank Capacity    1\n",
       "Max Power BHP         1\n",
       "Max Power RPM         1\n",
       "Max Torque Nm         1\n",
       "Max Torque RPM        1\n",
       "dtype: int64"
      ]
     },
     "execution_count": 317,
     "metadata": {},
     "output_type": "execute_result"
    }
   ],
   "execution_count": 317
  },
  {
   "metadata": {
    "ExecuteTime": {
     "end_time": "2025-03-21T04:48:12.205707Z",
     "start_time": "2025-03-21T04:48:12.151596Z"
    }
   },
   "cell_type": "code",
   "source": [
    "data_interpolate_lin = drop_na(data_interpolate_lin)\n",
    "data_interpolate_lin.to_csv(path + 'train_interpolate_lin.csv', index=False)\n",
    "\n",
    "data_interpolate_pol = drop_na(data_interpolate_pol)\n",
    "data_interpolate_pol.to_csv(path + 'train_interpolate_pol.csv', index=False)\n",
    "\n",
    "data_interpolate_pad = drop_na(data_interpolate_pad)\n",
    "data_interpolate_pad.to_csv(path + 'train_interpolate_pad.csv', index=False)"
   ],
   "id": "e07da0beff630f25",
   "outputs": [],
   "execution_count": 318
  }
 ],
 "metadata": {
  "kernelspec": {
   "display_name": "Python 3",
   "language": "python",
   "name": "python3"
  },
  "language_info": {
   "codemirror_mode": {
    "name": "ipython",
    "version": 3
   },
   "file_extension": ".py",
   "mimetype": "text/x-python",
   "name": "python",
   "nbconvert_exporter": "python",
   "pygments_lexer": "ipython3",
   "version": "3.12.9"
  }
 },
 "nbformat": 4,
 "nbformat_minor": 5
}
