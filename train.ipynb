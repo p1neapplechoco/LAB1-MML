{
 "cells": [
  {
   "metadata": {},
   "cell_type": "markdown",
   "source": "# Installing required libraries",
   "id": "1ae57d3f2dd6d2d5"
  },
  {
   "metadata": {
    "collapsed": true
   },
   "cell_type": "code",
   "source": [
    "%pip install numpy\n",
    "%pip install pandas\n",
    "%pip install matplotlib\n",
    "%pip install seaborn\n",
    "%pip install scipy"
   ],
   "id": "initial_id",
   "outputs": [],
   "execution_count": null
  },
  {
   "metadata": {},
   "cell_type": "code",
   "source": [
    "from DataPreprocessor import DataPreprocessor\n",
    "\n",
    "import pandas as pd\n",
    "import seaborn as sns\n",
    "import numpy as np\n",
    "import matplotlib.pyplot as plt"
   ],
   "id": "7e6d4069976b359c",
   "outputs": [],
   "execution_count": null
  },
  {
   "metadata": {},
   "cell_type": "code",
   "source": [
    "path = './data/'\n",
    "data = pd.read_csv(path + 'train.csv')\n"
   ],
   "id": "d951e7fa75fc15d4",
   "outputs": [],
   "execution_count": null
  },
  {
   "metadata": {},
   "cell_type": "code",
   "source": [
    "print(f'Số lượng dòng của data: {len(data)}')\n",
    "print(data.columns)"
   ],
   "id": "3e541859c945d483",
   "outputs": [],
   "execution_count": null
  },
  {
   "metadata": {},
   "cell_type": "code",
   "source": "data.head()",
   "id": "fe90b91f34e8a1b5",
   "outputs": [],
   "execution_count": null
  },
  {
   "metadata": {},
   "cell_type": "code",
   "source": "data.info()",
   "id": "94906da7ac2afe48",
   "outputs": [],
   "execution_count": null
  },
  {
   "metadata": {},
   "cell_type": "markdown",
   "source": "# I. Preprocessing Data",
   "id": "734b3c5b3b06f651"
  },
  {
   "metadata": {},
   "cell_type": "markdown",
   "source": [
    "## 1. Cleaning our data\n",
    "\n",
    "-"
   ],
   "id": "10fa6ec964867418"
  },
  {
   "metadata": {},
   "cell_type": "code",
   "source": [
    "data.dropna(how='all')\n",
    "data.drop_duplicates()\n",
    "\n",
    "data[\"Engine\"] = data[\"Engine\"].str.replace(' cc', '', regex=False).astype(float)\n",
    "\n",
    "data[['Max Power BHP', 'Max Power RPM']] = data['Max Power'].str.extract(r'(\\d+)\\s*bhp\\s*@\\s*(\\d+)\\s*rpm')\n",
    "data['Max Power BHP'] = pd.to_numeric(data['Max Power BHP'], errors='coerce')\n",
    "data['Max Power RPM'] = pd.to_numeric(data['Max Power RPM'], errors='coerce')\n",
    "\n",
    "data[['Max Torque Nm', 'Max Torque RPM']] = data['Max Torque'].str.extract(r'(\\d+)\\s*Nm\\s*@\\s*(\\d+)\\s*rpm')\n",
    "data['Max Torque Nm'] = pd.to_numeric(data['Max Torque Nm'], errors='coerce')\n",
    "data['Max Torque RPM'] = pd.to_numeric(data['Max Torque RPM'], errors='coerce')\n",
    "\n",
    "data = data.drop('Max Power', axis=1)\n",
    "data = data.drop('Max Torque', axis=1)"
   ],
   "id": "f8cce7a1219709f6",
   "outputs": [],
   "execution_count": null
  },
  {
   "metadata": {},
   "cell_type": "code",
   "source": "data.isna().sum()",
   "id": "8d724e1959ea102c",
   "outputs": [],
   "execution_count": null
  },
  {
   "metadata": {},
   "cell_type": "markdown",
   "source": "## 2. Dealing with missing values",
   "id": "3a062edaacfd13eb"
  },
  {
   "metadata": {},
   "cell_type": "code",
   "source": "preprocessor = DataPreprocessor(data)",
   "id": "bda10ff30091bd7c",
   "outputs": [],
   "execution_count": null
  },
  {
   "metadata": {},
   "cell_type": "markdown",
   "source": "### 2.1. Filling with mean",
   "id": "7fa446e0bd06ee5d"
  },
  {
   "metadata": {},
   "cell_type": "code",
   "source": [
    "mean_columns = []\n",
    "preprocessor.fill_mean(mean_columns)\n",
    "\n",
    "data.isna().sum()"
   ],
   "id": "65288f9b5c8736cb",
   "outputs": [],
   "execution_count": null
  },
  {
   "metadata": {},
   "cell_type": "markdown",
   "source": "### 2.2. Filling with median",
   "id": "bd646341a8c114cc"
  },
  {
   "metadata": {},
   "cell_type": "code",
   "source": [
    "median_columns = []\n",
    "preprocessor.fill_median(median_columns)\n",
    "\n",
    "data.isna().sum()"
   ],
   "id": "43c6acab0cfa0aa8",
   "outputs": [],
   "execution_count": null
  },
  {
   "metadata": {},
   "cell_type": "markdown",
   "source": "### 2.3. Filling with the most common value",
   "id": "f71e60fb635face3"
  },
  {
   "metadata": {},
   "cell_type": "code",
   "source": [
    "mode_columns = []\n",
    "preprocessor.fill_mode(mode_columns)\n",
    "\n",
    "data.isna().sum()"
   ],
   "id": "299b824b194540e7",
   "outputs": [],
   "execution_count": null
  },
  {
   "metadata": {},
   "cell_type": "markdown",
   "source": "### 2.4. Filling using KNN (K-nearest neighbour)",
   "id": "a1830a3fffcac430"
  },
  {
   "metadata": {},
   "cell_type": "code",
   "source": [
    "knn_columns = []\n",
    "preprocessor.fill_knn(knn_columns)\n",
    "\n",
    "data.isna().sum()"
   ],
   "id": "a1677642d589772a",
   "outputs": [],
   "execution_count": null
  },
  {
   "metadata": {},
   "cell_type": "markdown",
   "source": "## 3. Encoding categorical values",
   "id": "d400e4a9d19e53ab"
  },
  {
   "metadata": {},
   "cell_type": "markdown",
   "source": "### 3.1. Ordinal encoding",
   "id": "5d6df3056d17b42a"
  },
  {
   "metadata": {},
   "cell_type": "code",
   "source": [
    "ordinal_columns = []\n",
    "preprocessor.ordinal_encode(ordinal_columns)\n",
    "\n",
    "data"
   ],
   "id": "59cdd3e5e179178b",
   "outputs": [],
   "execution_count": null
  },
  {
   "metadata": {},
   "cell_type": "markdown",
   "source": "### 3.2. One-hot encoding",
   "id": "1fda9a1d78a1b9bf"
  },
  {
   "metadata": {},
   "cell_type": "code",
   "source": [
    "one_hot_columns = []\n",
    "threshold = 0 # should be an integer\n",
    "preprocessor.one_hot_encode(one_hot_columns, threshold)\n",
    "\n",
    "data"
   ],
   "id": "93f0ae7679b814ce",
   "outputs": [],
   "execution_count": null
  },
  {
   "metadata": {},
   "cell_type": "markdown",
   "source": "## 4. Scaling our data",
   "id": "4183164b52c52ffa"
  },
  {
   "metadata": {},
   "cell_type": "markdown",
   "source": "plot",
   "id": "fbc3129f3f5de750"
  },
  {
   "metadata": {},
   "cell_type": "code",
   "source": [
    "import math\n",
    "\n",
    "def visualize_relationship_with_a_variable(df: pd.DataFrame, col: str=None):\n",
    "    numeric_data = df.select_dtypes(include=['number'])\n",
    "\n",
    "    correlations = numeric_data.corr()[col]\n",
    "    num_cols = [c for c in numeric_data.columns if c != \"Price\"]\n",
    "\n",
    "    num_plots = len(num_cols)\n",
    "    cols_per_row = 3\n",
    "    num_rows = math.ceil(num_plots / cols_per_row)\n",
    "\n",
    "    fig, axes = plt.subplots(num_rows, cols_per_row, figsize=(5 * cols_per_row, 5 * num_rows))\n",
    "\n",
    "    axes = axes.flatten()\n",
    "\n",
    "    for i, col in enumerate(num_cols):\n",
    "        corr_value = correlations[col]\n",
    "        sns.scatterplot(x=numeric_data[col], y=numeric_data[\"Price\"], ax=axes[i])\n",
    "        axes[i].set_title(f\"{col} vs Price (corr={corr_value:.2f})\")\n",
    "        axes[i].set_xlabel(col)\n",
    "        axes[i].set_ylabel(\"Price\")\n",
    "\n",
    "    for j in range(i + 1, len(axes)):\n",
    "        fig.delaxes(axes[j])\n",
    "\n",
    "    plt.tight_layout()\n",
    "    plt.show()"
   ],
   "id": "73a9d07d1c2ede6d",
   "outputs": [],
   "execution_count": null
  },
  {
   "metadata": {},
   "cell_type": "code",
   "source": "visualize_relationship_with_a_variable(data, 'Price')",
   "id": "5ceb18e51255b215",
   "outputs": [],
   "execution_count": null
  },
  {
   "metadata": {},
   "cell_type": "markdown",
   "source": "### 4.1. Log transformation",
   "id": "bc37fce61250c839"
  },
  {
   "metadata": {},
   "cell_type": "code",
   "source": [
    "log_column = []\n",
    "preprocessor.log_norm(log_column)\n",
    "\n",
    "data"
   ],
   "id": "9704a12b10855c7f",
   "outputs": [],
   "execution_count": null
  },
  {
   "metadata": {},
   "cell_type": "markdown",
   "source": "### 4.2. Min-Max scaling",
   "id": "b92e747041a04a3d"
  },
  {
   "metadata": {},
   "cell_type": "code",
   "source": [
    "minmax_columns = []\n",
    "preprocessor.minmax_norm(minmax_columns)\n",
    "\n",
    "data"
   ],
   "id": "dfaad61e320749f2",
   "outputs": [],
   "execution_count": null
  },
  {
   "metadata": {},
   "cell_type": "markdown",
   "source": "### 4.3. Standardization",
   "id": "6931cce0432343c0"
  },
  {
   "metadata": {},
   "cell_type": "code",
   "source": [
    "std_column = []\n",
    "preprocessor.standard_norm(std_column)\n",
    "\n",
    "data"
   ],
   "id": "38b2753cfdede6c0",
   "outputs": [],
   "execution_count": null
  },
  {
   "metadata": {},
   "cell_type": "markdown",
   "source": "### 4.4 Robust scaling",
   "id": "b87a5f3e610060a"
  },
  {
   "metadata": {},
   "cell_type": "code",
   "source": [
    "robust_column = []\n",
    "focus = 0.5\n",
    "preprocessor.robust_norm(robust_column, focus)\n",
    "\n",
    "data"
   ],
   "id": "662aedaa15231bcc",
   "outputs": [],
   "execution_count": null
  },
  {
   "metadata": {},
   "cell_type": "markdown",
   "source": "vis",
   "id": "193a0274e0d2fba1"
  },
  {
   "metadata": {},
   "cell_type": "code",
   "source": "visualize_relationship_with_a_variable(data, 'Price')",
   "id": "e64c1283535a8d95",
   "outputs": [],
   "execution_count": null
  }
 ],
 "metadata": {
  "kernelspec": {
   "display_name": "Python 3",
   "language": "python",
   "name": "python3"
  },
  "language_info": {
   "codemirror_mode": {
    "name": "ipython",
    "version": 2
   },
   "file_extension": ".py",
   "mimetype": "text/x-python",
   "name": "python",
   "nbconvert_exporter": "python",
   "pygments_lexer": "ipython2",
   "version": "2.7.6"
  }
 },
 "nbformat": 4,
 "nbformat_minor": 5
}
